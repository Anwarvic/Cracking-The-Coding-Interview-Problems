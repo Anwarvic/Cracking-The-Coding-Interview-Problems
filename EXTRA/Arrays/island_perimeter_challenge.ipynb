{
 "cells": [
  {
   "cell_type": "markdown",
   "metadata": {},
   "source": [
    "This notebook was prepared by [Donne Martin](https://github.com/donnemartin). Source and license info is on [GitHub](https://github.com/donnemartin/interactive-coding-challenges)."
   ]
  },
  {
   "cell_type": "markdown",
   "metadata": {},
   "source": [
    "# Challenge Notebook"
   ]
  },
  {
   "cell_type": "markdown",
   "metadata": {},
   "source": [
    "## Problem: Island Perimeter.\n",
    "\n",
    "See the [LeetCode](https://leetcode.com/problems/island-perimeter/) problem page.\n",
    "\n",
    "You are given a map in form of a two-dimensional integer grid where 1 represents land and 0 represents water. Grid cells are connected horizontally/vertically (not diagonally). The grid is completely surrounded by water, and there is exactly one island (i.e., one or more connected land cells). The island doesn't have \"lakes\" (water inside that isn't connected to the water around the island). One cell is a square with side length 1. The grid is rectangular, width and height don't exceed 100. Determine the perimeter of the island.\n",
    "\n",
    "Example:\n",
    "\n",
    "<pre>\n",
    "[[0,1,0,0],\n",
    " [1,1,1,0],\n",
    " [0,1,0,0],\n",
    " [1,1,0,0]]\n",
    "</pre>\n",
    "\n",
    "Answer: 16"
   ]
  },
  {
   "cell_type": "markdown",
   "metadata": {},
   "source": [
    "## Constraints\n",
    "\n",
    "* Can we assume the inputs are valid?\n",
    "    * No, check for None\n",
    "* Can we assume this fits memory?\n",
    "    * Yes"
   ]
  },
  {
   "cell_type": "markdown",
   "metadata": {},
   "source": [
    "## Test Cases\n",
    "\n",
    "<pre>\n",
    "* None -> TypeError\n",
    "* [[1, 0]] -> 4\n",
    "* [[0, 1, 0, 0],\n",
    "   [1, 1, 1, 0],\n",
    "   [0, 1, 0, 0],\n",
    "   [1, 1, 0, 0]] -> 16\n",
    "</pre>"
   ]
  },
  {
   "cell_type": "markdown",
   "metadata": {},
   "source": [
    "## Code"
   ]
  },
  {
   "cell_type": "code",
   "execution_count": 1,
   "metadata": {},
   "outputs": [],
   "source": [
    "class Solution(object):\n",
    "    \n",
    "    def island_perimeter(self, grid):\n",
    "        # TODO: Implement me\n",
    "        if not grid:\n",
    "            raise TypeError\n",
    "        \n",
    "        #expand the grid\n",
    "        rows, cols = len(grid), len(grid[0])\n",
    "        for i in range(rows):\n",
    "            grid[i] = [0] + grid[i] + [0]\n",
    "        grid.insert(0, [0 for _ in range(cols)])\n",
    "        grid.append([0 for _ in range(cols)])\n",
    "        \n",
    "        #calculate the perimeter\n",
    "        perimeter = 0\n",
    "        for i in range(1, rows+2):\n",
    "            for j in range(cols):\n",
    "                if grid[i][j] == 1:\n",
    "                    if grid[i][j-1] != 1: #left\n",
    "                        perimeter += 1\n",
    "                    if grid[i-1][j] != 1: #top\n",
    "                        perimeter += 1\n",
    "                    if grid[i+1][j] != 1: #bottom\n",
    "                        perimeter += 1\n",
    "                    if grid[i][j+1] != 1: #right\n",
    "                        perimeter += 1\n",
    "                        break\n",
    "        return perimeter\n",
    "\n",
    "                "
   ]
  },
  {
   "cell_type": "markdown",
   "metadata": {},
   "source": [
    "## Unit Test"
   ]
  },
  {
   "cell_type": "markdown",
   "metadata": {},
   "source": [
    "**The following unit test is expected to fail until you solve the challenge.**"
   ]
  },
  {
   "cell_type": "code",
   "execution_count": 2,
   "metadata": {},
   "outputs": [
    {
     "name": "stdout",
     "output_type": "stream",
     "text": [
      "Success: test_island_perimeter\n"
     ]
    }
   ],
   "source": [
    "from nose.tools import assert_equal, assert_raises\n",
    "\n",
    "\n",
    "class TestIslandPerimeter(object):\n",
    "\n",
    "    def test_island_perimeter(self):\n",
    "        solution = Solution()\n",
    "        assert_raises(TypeError, solution.island_perimeter, None)\n",
    "        data = [[1, 0]]\n",
    "        expected = 4\n",
    "        assert_equal(solution.island_perimeter(data), expected)\n",
    "        data = [[0, 1, 0, 0],\n",
    "                [1, 1, 1, 0],\n",
    "                [0, 1, 0, 0],\n",
    "                [1, 1, 0, 0]]\n",
    "        expected = 16\n",
    "        assert_equal(solution.island_perimeter(data), expected)\n",
    "        print('Success: test_island_perimeter')\n",
    "\n",
    "\n",
    "def main():\n",
    "    test = TestIslandPerimeter()\n",
    "    test.test_island_perimeter()\n",
    "\n",
    "\n",
    "if __name__ == '__main__':\n",
    "    main()"
   ]
  }
 ],
 "metadata": {
  "kernelspec": {
   "display_name": "Python 2",
   "language": "python",
   "name": "python2"
  },
  "language_info": {
   "codemirror_mode": {
    "name": "ipython",
    "version": 2
   },
   "file_extension": ".py",
   "mimetype": "text/x-python",
   "name": "python",
   "nbconvert_exporter": "python",
   "pygments_lexer": "ipython2",
   "version": "2.7.14"
  }
 },
 "nbformat": 4,
 "nbformat_minor": 1
}
