{
 "cells": [
  {
   "cell_type": "markdown",
   "metadata": {},
   "source": [
    "This notebook was prepared by [Donne Martin](https://github.com/donnemartin). Source and license info is on [GitHub](https://github.com/donnemartin/interactive-coding-challenges)."
   ]
  },
  {
   "cell_type": "markdown",
   "metadata": {},
   "source": [
    "# Challenge Notebook"
   ]
  },
  {
   "cell_type": "markdown",
   "metadata": {},
   "source": [
    "## Problem: Move all zeroes in a list to the end."
   ]
  },
  {
   "cell_type": "markdown",
   "metadata": {},
   "source": [
    "## Constraints\n",
    "\n",
    "* Is the input an array of ints?\n",
    "    * Yes\n",
    "* Is the output a new array of ints?\n",
    "    * No, do this in-place\n",
    "* Do we need to maintain ordering of non-zero values?\n",
    "    * Yes\n",
    "* Can we assume the inputs are valid?\n",
    "    * No\n",
    "* Can we assume this fits memory?\n",
    "    * Yes"
   ]
  },
  {
   "cell_type": "markdown",
   "metadata": {},
   "source": [
    "## Test Cases\n",
    "\n",
    "<pre>\n",
    "* None -> TypeError\n",
    "* [0, 1, 0, 3, 12] -> [1, 3, 12, 0, 0]\n",
    "* [1, 0] -> [1, 0]\n",
    "* [0, 1] -> [1, 0]\n",
    "* [0] -> [0]\n",
    "* [1] -> [1]\n",
    "* [1, 1] -> [1, 1]\n",
    "</pre>"
   ]
  },
  {
   "cell_type": "markdown",
   "metadata": {},
   "source": [
    "## Code"
   ]
  },
  {
   "cell_type": "code",
   "execution_count": 1,
   "metadata": {},
   "outputs": [],
   "source": [
    "class Solution(object):\n",
    "\n",
    "    def move_zeroes(self, nums):\n",
    "        # TODO: Implement me\n",
    "        indices = []\n",
    "        output = []\n",
    "        for i, num in enumerate(nums):\n",
    "            if num == 0:\n",
    "                indices.append(i)\n",
    "        i = 0\n",
    "        for idx in indices:\n",
    "            del nums[idx-i]\n",
    "            i += 1\n",
    "        for i in range(len(indices)):\n",
    "            nums.append(0)\n",
    "        "
   ]
  },
  {
   "cell_type": "markdown",
   "metadata": {},
   "source": [
    "## Unit Test"
   ]
  },
  {
   "cell_type": "markdown",
   "metadata": {},
   "source": [
    "**The following unit test is expected to fail until you solve the challenge.**"
   ]
  },
  {
   "cell_type": "code",
   "execution_count": 2,
   "metadata": {},
   "outputs": [
    {
     "name": "stdout",
     "output_type": "stream",
     "text": [
      "Success: test_move_zeroes\n"
     ]
    }
   ],
   "source": [
    "from nose.tools import assert_equal, assert_raises\n",
    "\n",
    "\n",
    "class TestMoveZeroes(object):\n",
    "\n",
    "    def test_move_zeroes(self):\n",
    "        solution = Solution()\n",
    "        assert_raises(TypeError, solution.move_zeroes, None)\n",
    "        array = [0, 1, 0, 3, 12]\n",
    "        solution.move_zeroes(array)\n",
    "        assert_equal(array, [1, 3, 12, 0, 0])\n",
    "        array = [1, 0]\n",
    "        solution.move_zeroes(array)\n",
    "        assert_equal(array, [1, 0])\n",
    "        array = [0, 1]\n",
    "        solution.move_zeroes(array)\n",
    "        assert_equal(array, [1, 0])\n",
    "        array = [0]\n",
    "        solution.move_zeroes(array)\n",
    "        assert_equal(array, [0])\n",
    "        array = [1]\n",
    "        solution.move_zeroes(array)\n",
    "        assert_equal(array, [1])\n",
    "        array = [1, 1]\n",
    "        solution.move_zeroes(array)\n",
    "        assert_equal(array, [1, 1])\n",
    "        print('Success: test_move_zeroes')\n",
    "\n",
    "\n",
    "def main():\n",
    "    test = TestMoveZeroes()\n",
    "    test.test_move_zeroes()\n",
    "\n",
    "\n",
    "if __name__ == '__main__':\n",
    "    main()"
   ]
  }
 ],
 "metadata": {
  "kernelspec": {
   "display_name": "Python 2",
   "language": "python",
   "name": "python2"
  },
  "language_info": {
   "codemirror_mode": {
    "name": "ipython",
    "version": 2
   },
   "file_extension": ".py",
   "mimetype": "text/x-python",
   "name": "python",
   "nbconvert_exporter": "python",
   "pygments_lexer": "ipython2",
   "version": "2.7.14"
  }
 },
 "nbformat": 4,
 "nbformat_minor": 1
}
