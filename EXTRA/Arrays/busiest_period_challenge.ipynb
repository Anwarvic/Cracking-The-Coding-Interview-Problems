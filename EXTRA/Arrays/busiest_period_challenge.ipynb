{
 "cells": [
  {
   "cell_type": "markdown",
   "metadata": {},
   "source": [
    "This notebook was prepared by [Donne Martin](https://github.com/donnemartin). Source and license info is on [GitHub](https://github.com/donnemartin/interactive-coding-challenges)."
   ]
  },
  {
   "cell_type": "markdown",
   "metadata": {},
   "source": [
    "# Challenge Notebook"
   ]
  },
  {
   "cell_type": "markdown",
   "metadata": {},
   "source": [
    "## Problem: Given an array of (unix_timestamp, num_people, EventType.ENTER or EventType.EXIT), find the busiest period.\n",
    "\n",
    "* [Constraints](#Constraints)\n",
    "* [Test Cases](#Test-Cases)\n",
    "* [Algorithm](#Algorithm)\n",
    "* [Code](#Code)\n",
    "* [Unit Test](#Unit-Test)\n",
    "* [Solution Notebook](#Solution-Notebook)"
   ]
  },
  {
   "cell_type": "markdown",
   "metadata": {},
   "source": [
    "## Constraints\n",
    "\n",
    "* Can we assume the input array is valid?\n",
    "    * Check for None\n",
    "* Can we assume the elements of the input array are valid?\n",
    "    * Yes\n",
    "* Is the input sorted by time?\n",
    "    * No\n",
    "* Can you have enter and exit elements for the same timestamp?\n",
    "    * Yes you can, order of enter and exit is not guaranteed\n",
    "* Could we have multiple enter events (or multiple exit events) for the same timestamp?\n",
    "    * No\n",
    "* What is the format of the output?\n",
    "    * An array of timestamps [t1, t2]\n",
    "* Can we assume the starting number of people is zero?\n",
    "    * Yes\n",
    "* Can we assume the inputs are valid?\n",
    "    * No\n",
    "* Can we assume this fits memory?\n",
    "    * Yes"
   ]
  },
  {
   "cell_type": "markdown",
   "metadata": {},
   "source": [
    "## Test Cases\n",
    "\n",
    "* None -> TypeError\n",
    "* [] -> None\n",
    "* General case\n",
    "\n",
    "<pre>\n",
    "timestamp  num_people  event_type\n",
    "1          2           EventType.ENTER\n",
    "3          1           EventType.ENTER\n",
    "3          2           EventType.EXIT\n",
    "7          3           EventType.ENTER\n",
    "8          2           EventType.EXIT\n",
    "9          2           EventType.EXIT\n",
    "\n",
    "result = Period(7, 8)\n",
    "</pre>"
   ]
  },
  {
   "cell_type": "markdown",
   "metadata": {},
   "source": [
    "## Code"
   ]
  },
  {
   "cell_type": "code",
   "execution_count": 1,
   "metadata": {},
   "outputs": [],
   "source": [
    "from enum import Enum\n",
    "\n",
    "\n",
    "class Data(object):\n",
    "\n",
    "    def __init__(self, timestamp, num_people, event_type):\n",
    "        self.timestamp = timestamp\n",
    "        self.num_people = num_people\n",
    "        self.event_type = event_type\n",
    "\n",
    "    def __lt__(self, other):\n",
    "        return self.timestamp < other.timestamp\n",
    "    \n",
    "    def __repr__(self):\n",
    "        return str(self.timestamp) + str(self.num_people) + str()\n",
    "\n",
    "\n",
    "class Period(object):\n",
    "\n",
    "    def __init__(self, start, end):\n",
    "        self.start = start\n",
    "        self.end = end\n",
    "\n",
    "    def __eq__(self, other):\n",
    "        return self.start == other.start and self.end == other.end\n",
    "\n",
    "    def __repr__(self):\n",
    "        return str(self.start) + ', ' + str(self.end)\n",
    "\n",
    "\n",
    "class EventType(Enum):\n",
    "    ENTER = 0\n",
    "    EXIT = 1\n",
    "    "
   ]
  },
  {
   "cell_type": "code",
   "execution_count": 2,
   "metadata": {},
   "outputs": [],
   "source": [
    "class Solution(object):\n",
    "\n",
    "    def find_busiest_period(self, data):\n",
    "        # TODO: Implement me\n",
    "        if data == None:\n",
    "            raise TypeError\n",
    "        elif data == []:\n",
    "            return None\n",
    "        \n",
    "        data = sorted(data)\n",
    "        time_lst = []\n",
    "        people_lst = []\n",
    "        total_people = 0\n",
    "        for period in data:\n",
    "            time_lst.append(period.timestamp)\n",
    "            if period.event_type == EventType.ENTER:\n",
    "                total_people += period.num_people\n",
    "            else:\n",
    "                total_people -= period.num_people\n",
    "            people_lst.append(total_people)\n",
    "        \n",
    "        idx = people_lst.index(max(people_lst))\n",
    "        return Period( time_lst[idx], time_lst[idx+1] )\n",
    "        \n"
   ]
  },
  {
   "cell_type": "code",
   "execution_count": 3,
   "metadata": {},
   "outputs": [
    {
     "name": "stdout",
     "output_type": "stream",
     "text": [
      "7, 8\n"
     ]
    }
   ],
   "source": [
    "data = [\n",
    "            Data(3, 2, EventType.EXIT),\n",
    "            Data(1, 2, EventType.ENTER),\n",
    "            Data(3, 1, EventType.ENTER),\n",
    "            Data(7, 3, EventType.ENTER),\n",
    "            Data(9, 2, EventType.EXIT),\n",
    "            Data(8, 2, EventType.EXIT),\n",
    "        ]\n",
    "\n",
    "print Solution().find_busiest_period(data)"
   ]
  },
  {
   "cell_type": "markdown",
   "metadata": {},
   "source": [
    "## Unit Test"
   ]
  },
  {
   "cell_type": "markdown",
   "metadata": {},
   "source": [
    "**The following unit test is expected to fail until you solve the challenge.**"
   ]
  },
  {
   "cell_type": "code",
   "execution_count": 4,
   "metadata": {},
   "outputs": [
    {
     "name": "stdout",
     "output_type": "stream",
     "text": [
      "Success: test_find_busiest_period\n"
     ]
    }
   ],
   "source": [
    "from nose.tools import assert_equal, assert_raises\n",
    "\n",
    "\n",
    "class TestSolution(object):\n",
    "\n",
    "    def test_find_busiest_period(self):\n",
    "        solution = Solution()\n",
    "        assert_raises(TypeError, solution.find_busiest_period, None)\n",
    "        assert_equal(solution.find_busiest_period([]), None)\n",
    "        data = [\n",
    "            Data(3, 2, EventType.EXIT),\n",
    "            Data(1, 2, EventType.ENTER),\n",
    "            Data(3, 1, EventType.ENTER),\n",
    "            Data(7, 3, EventType.ENTER),\n",
    "            Data(9, 2, EventType.EXIT),\n",
    "            Data(8, 2, EventType.EXIT),\n",
    "        ]\n",
    "        assert_equal(solution.find_busiest_period(data), Period(7, 8))\n",
    "        print('Success: test_find_busiest_period')\n",
    "\n",
    "\n",
    "def main():\n",
    "    test = TestSolution()\n",
    "    test.test_find_busiest_period()\n",
    "\n",
    "\n",
    "if __name__ == '__main__':\n",
    "    main()"
   ]
  }
 ],
 "metadata": {
  "kernelspec": {
   "display_name": "Python 2",
   "language": "python",
   "name": "python2"
  },
  "language_info": {
   "codemirror_mode": {
    "name": "ipython",
    "version": 2
   },
   "file_extension": ".py",
   "mimetype": "text/x-python",
   "name": "python",
   "nbconvert_exporter": "python",
   "pygments_lexer": "ipython2",
   "version": "2.7.14"
  }
 },
 "nbformat": 4,
 "nbformat_minor": 1
}
