{
 "cells": [
  {
   "cell_type": "markdown",
   "metadata": {},
   "source": [
    "This notebook was prepared by [Donne Martin](https://github.com/donnemartin). Source and license info is on [GitHub](https://github.com/donnemartin/interactive-coding-challenges)."
   ]
  },
  {
   "cell_type": "markdown",
   "metadata": {},
   "source": [
    "# Challenge Notebook"
   ]
  },
  {
   "cell_type": "markdown",
   "metadata": {},
   "source": [
    "## Problem: Given a list of ints, find the products of every other int for each index."
   ]
  },
  {
   "cell_type": "markdown",
   "metadata": {},
   "source": [
    "## Constraints\n",
    "\n",
    "* Can we use division?\n",
    "    * No\n",
    "* Is the output a list of ints?\n",
    "    * Yes\n",
    "* Can we assume the inputs are valid?\n",
    "    * No\n",
    "* Can we assume this fits memory?\n",
    "    * Yes"
   ]
  },
  {
   "cell_type": "markdown",
   "metadata": {},
   "source": [
    "## Test Cases\n",
    "\n",
    "<pre>\n",
    "* None -> TypeError\n",
    "* [] -> []\n",
    "* [0] -> []\n",
    "* [0, 1] -> [1, 0]\n",
    "* [0, 1, 2] -> [2, 0, 0]\n",
    "* [1, 2, 3, 4] -> [24, 12, 8, 6]\n",
    "</pre>"
   ]
  },
  {
   "cell_type": "markdown",
   "metadata": {},
   "source": [
    "## Code"
   ]
  },
  {
   "cell_type": "code",
   "execution_count": 3,
   "metadata": {},
   "outputs": [],
   "source": [
    "class Solution(object):\n",
    "\n",
    "    def mult_other_numbers(self, array):\n",
    "        # TODO: Implement me\n",
    "        output = []\n",
    "        if len(array) <= 1:\n",
    "            return output\n",
    "        for i, num1 in enumerate(array):\n",
    "            mul = 1\n",
    "            for j, num2 in enumerate(array):\n",
    "                if i==j:\n",
    "                    pass\n",
    "                else:\n",
    "                    mul *= num2\n",
    "            output.append(mul)\n",
    "        return output"
   ]
  },
  {
   "cell_type": "markdown",
   "metadata": {},
   "source": [
    "## Unit Test"
   ]
  },
  {
   "cell_type": "markdown",
   "metadata": {},
   "source": [
    "**The following unit test is expected to fail until you solve the challenge.**"
   ]
  },
  {
   "cell_type": "code",
   "execution_count": 4,
   "metadata": {},
   "outputs": [
    {
     "name": "stdout",
     "output_type": "stream",
     "text": [
      "Success: test_mult_other_numbers\n"
     ]
    }
   ],
   "source": [
    "# %load test_mult_other_numbers.py\n",
    "from nose.tools import assert_equal, assert_raises\n",
    "\n",
    "\n",
    "class TestMultOtherNumbers(object):\n",
    "\n",
    "    def test_mult_other_numbers(self):\n",
    "        solution = Solution()\n",
    "        assert_raises(TypeError, solution.mult_other_numbers, None)\n",
    "        assert_equal(solution.mult_other_numbers([0]), [])\n",
    "        assert_equal(solution.mult_other_numbers([0, 1]), [1, 0])\n",
    "        assert_equal(solution.mult_other_numbers([0, 1, 2]), [2, 0, 0])\n",
    "        assert_equal(solution.mult_other_numbers([1, 2, 3, 4]), [24, 12, 8, 6])\n",
    "        print('Success: test_mult_other_numbers')\n",
    "\n",
    "\n",
    "def main():\n",
    "    test = TestMultOtherNumbers()\n",
    "    test.test_mult_other_numbers()\n",
    "\n",
    "\n",
    "if __name__ == '__main__':\n",
    "    main()"
   ]
  }
 ],
 "metadata": {
  "kernelspec": {
   "display_name": "Python 2",
   "language": "python",
   "name": "python2"
  },
  "language_info": {
   "codemirror_mode": {
    "name": "ipython",
    "version": 2
   },
   "file_extension": ".py",
   "mimetype": "text/x-python",
   "name": "python",
   "nbconvert_exporter": "python",
   "pygments_lexer": "ipython2",
   "version": "2.7.14"
  }
 },
 "nbformat": 4,
 "nbformat_minor": 1
}
