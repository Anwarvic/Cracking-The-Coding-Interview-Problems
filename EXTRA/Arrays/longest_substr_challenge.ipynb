{
 "cells": [
  {
   "cell_type": "markdown",
   "metadata": {},
   "source": [
    "This notebook was prepared by [Donne Martin](https://github.com/donnemartin). Source and license info is on [GitHub](https://github.com/donnemartin/interactive-coding-challenges)."
   ]
  },
  {
   "cell_type": "markdown",
   "metadata": {},
   "source": [
    "# Challenge Notebook"
   ]
  },
  {
   "cell_type": "markdown",
   "metadata": {},
   "source": [
    "## Problem: Find the length of the longest substring with at most k distinct characters."
   ]
  },
  {
   "cell_type": "markdown",
   "metadata": {},
   "source": [
    "## Constraints\n",
    "\n",
    "* Can we assume the inputs are valid?\n",
    "    * No\n",
    "* Can we assume the strings are ASCII?\n",
    "    * Yes\n",
    "* Is this case sensitive?\n",
    "    * Yes\n",
    "* Is a substring a continuous block of chars?\n",
    "    * Yes\n",
    "* Do we expect an int as a result?\n",
    "    * Yes\n",
    "* Can we assume this fits memory?\n",
    "    * Yes"
   ]
  },
  {
   "cell_type": "markdown",
   "metadata": {},
   "source": [
    "## Test Cases\n",
    "\n",
    "* None -> TypeError\n",
    "* '', k = 3 -> 0\n",
    "* 'abcabcdefgghiij', k=3 -> 6\n",
    "* 'abcabcdefgghighij', k=3 -> 7"
   ]
  },
  {
   "cell_type": "markdown",
   "metadata": {},
   "source": [
    "## Code"
   ]
  },
  {
   "cell_type": "code",
   "execution_count": 1,
   "metadata": {},
   "outputs": [],
   "source": [
    "class Solution(object):\n",
    "    \n",
    "    def get_index(self, string, k):\n",
    "        #helping funciton\n",
    "        current_count = 0\n",
    "        s = set([])\n",
    "        idx = 0\n",
    "        for i, ch in enumerate(string):\n",
    "            if ch not in s:\n",
    "                if len(s) < k:\n",
    "                    s.add(ch)\n",
    "                    current_count += 1\n",
    "                else:\n",
    "                    idx = i-(k-1)\n",
    "                    return (idx, current_count)\n",
    "            else:\n",
    "                current_count += 1\n",
    "            \n",
    "    \n",
    "    def longest_substr(self, string, k):\n",
    "        # TODO: Implement me\n",
    "        if string is None or k<=0:\n",
    "            raise TypeError\n",
    "        elif string==\"\":\n",
    "            return 0\n",
    "        else:\n",
    "            idx = 0\n",
    "            max_count = None\n",
    "            while(idx < len(string)-k):\n",
    "                tmp_idx, current_count = self.get_index(string[idx:], k)\n",
    "                idx += tmp_idx\n",
    "                if current_count > max_count:\n",
    "                    max_count = current_count\n",
    "            return max_count"
   ]
  },
  {
   "cell_type": "markdown",
   "metadata": {},
   "source": [
    "## Unit Test"
   ]
  },
  {
   "cell_type": "markdown",
   "metadata": {},
   "source": [
    "**The following unit test is expected to fail until you solve the challenge.**"
   ]
  },
  {
   "cell_type": "code",
   "execution_count": 2,
   "metadata": {},
   "outputs": [
    {
     "name": "stdout",
     "output_type": "stream",
     "text": [
      "Success: test_longest_substr\n"
     ]
    }
   ],
   "source": [
    "from nose.tools import assert_equal, assert_raises\n",
    "\n",
    "\n",
    "class TestSolution(object):\n",
    "\n",
    "    def test_longest_substr(self):\n",
    "        solution = Solution()\n",
    "        assert_raises(TypeError, solution.longest_substr, None)\n",
    "        assert_equal(solution.longest_substr('', k=3), 0)\n",
    "        assert_equal(solution.longest_substr('abcabcdefgghiij', k=3), 6)\n",
    "        assert_equal(solution.longest_substr('abcabcdefgghighij', k=3), 7)\n",
    "        print('Success: test_longest_substr')\n",
    "\n",
    "\n",
    "def main():\n",
    "    test = TestSolution()\n",
    "    test.test_longest_substr()\n",
    "\n",
    "\n",
    "if __name__ == '__main__':\n",
    "    main()"
   ]
  }
 ],
 "metadata": {
  "kernelspec": {
   "display_name": "Python 2",
   "language": "python",
   "name": "python2"
  },
  "language_info": {
   "codemirror_mode": {
    "name": "ipython",
    "version": 2
   },
   "file_extension": ".py",
   "mimetype": "text/x-python",
   "name": "python",
   "nbconvert_exporter": "python",
   "pygments_lexer": "ipython2",
   "version": "2.7.14"
  }
 },
 "nbformat": 4,
 "nbformat_minor": 1
}
