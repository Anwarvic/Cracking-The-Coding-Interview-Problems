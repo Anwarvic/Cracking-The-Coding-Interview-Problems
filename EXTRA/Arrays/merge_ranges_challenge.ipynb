{
 "cells": [
  {
   "cell_type": "markdown",
   "metadata": {},
   "source": [
    "This notebook was prepared by [Donne Martin](https://github.com/donnemartin). Source and license info is on [GitHub](https://github.com/donnemartin/interactive-coding-challenges)."
   ]
  },
  {
   "cell_type": "markdown",
   "metadata": {},
   "source": [
    "# Challenge Notebook"
   ]
  },
  {
   "cell_type": "markdown",
   "metadata": {},
   "source": [
    "## Problem: Given a list of tuples representing ranges, condense the ranges.  \n",
    "\n",
    "Example: [(2, 3), (3, 5), (7, 9), (8, 10)] -> [(2, 5), (7, 10)]"
   ]
  },
  {
   "cell_type": "markdown",
   "metadata": {},
   "source": [
    "## Constraints\n",
    "\n",
    "* Are the tuples in sorted order?\n",
    "    * No\n",
    "* Are the tuples ints?\n",
    "    * Yes\n",
    "* Will all tuples have the first element less than the second?\n",
    "    * Yes\n",
    "* Is there an upper bound on the input range?\n",
    "    * No\n",
    "* Is the output a list of tuples?\n",
    "    * Yes\n",
    "* Is the output a new array?\n",
    "    * Yes\n",
    "* Can we assume the inputs are valid?\n",
    "    * No, check for None\n",
    "* Can we assume this fits memory?\n",
    "    * Yes"
   ]
  },
  {
   "cell_type": "markdown",
   "metadata": {},
   "source": [
    "## Test Cases\n",
    "\n",
    "<pre>\n",
    "* None input -> TypeError\n",
    "* [] - []\n",
    "* [(2, 3), (7, 9)] -> [(2, 3), (7, 9)]\n",
    "* [(2, 3), (3, 5), (7, 9), (8, 10)] -> [(2, 5), (7, 10)]\n",
    "* [(2, 3), (3, 5), (7, 9), (8, 10), (1, 11)] -> [(1, 11)]\n",
    "* [(2, 3), (3, 8), (7, 9), (8, 10)] -> [(2, 10)]\n",
    "</pre>"
   ]
  },
  {
   "cell_type": "markdown",
   "metadata": {},
   "source": [
    "## Code"
   ]
  },
  {
   "cell_type": "code",
   "execution_count": 1,
   "metadata": {},
   "outputs": [],
   "source": [
    "import copy\n",
    "class Solution(object):\n",
    "\n",
    "    def merge_ranges(self, array):\n",
    "        # TODO: Implement me\n",
    "        output = []\n",
    "        if array == []:\n",
    "            return output\n",
    "        else:\n",
    "            array = sorted(array)\n",
    "            for array_tuple in array:\n",
    "                tmp = copy.copy(output)\n",
    "                if len(output) == 0:\n",
    "                    output.append(array_tuple)\n",
    "                else:\n",
    "                    for i, output_tuple in enumerate(tmp):\n",
    "                        if output_tuple[1] >= array_tuple[0] and output_tuple[1] <= array_tuple[1]:\n",
    "                            output[i] = (output_tuple[0], array_tuple[1])\n",
    "                        elif output_tuple[1] > array_tuple[1]:\n",
    "                            pass\n",
    "                        else:\n",
    "                            if i == len(tmp)-1:\n",
    "                                output.append(array_tuple)\n",
    "            return output"
   ]
  },
  {
   "cell_type": "markdown",
   "metadata": {},
   "source": [
    "## Unit Test"
   ]
  },
  {
   "cell_type": "markdown",
   "metadata": {},
   "source": [
    "**The following unit test is expected to fail until you solve the challenge.**"
   ]
  },
  {
   "cell_type": "code",
   "execution_count": 2,
   "metadata": {},
   "outputs": [
    {
     "name": "stdout",
     "output_type": "stream",
     "text": [
      "Success: test_merge_ranges\n"
     ]
    }
   ],
   "source": [
    "from nose.tools import assert_equal, assert_raises\n",
    "\n",
    "\n",
    "class TestMergeRanges(object):\n",
    "\n",
    "    def test_merge_ranges(self):\n",
    "        solution = Solution()\n",
    "        assert_raises(TypeError, solution.merge_ranges, None)\n",
    "        assert_equal(solution.merge_ranges([]), [])\n",
    "        array = [(2, 3), (7, 9)]\n",
    "        expected = [(2, 3), (7, 9)]\n",
    "        assert_equal(solution.merge_ranges(array), expected)\n",
    "        array = [(2, 3), (3, 5), (7, 9), (8, 10)]\n",
    "        expected = [(2, 5), (7, 10)]\n",
    "        assert_equal(solution.merge_ranges(array), expected)\n",
    "        array = [(2, 3), (3, 5), (7, 9), (8, 10), (1, 11)]\n",
    "        expected = [(1, 11)]\n",
    "        assert_equal(solution.merge_ranges(array), expected)\n",
    "        print('Success: test_merge_ranges')\n",
    "\n",
    "\n",
    "def main():\n",
    "    test = TestMergeRanges()\n",
    "    test.test_merge_ranges()\n",
    "\n",
    "\n",
    "if __name__ == '__main__':\n",
    "    main()"
   ]
  }
 ],
 "metadata": {
  "kernelspec": {
   "display_name": "Python 2",
   "language": "python",
   "name": "python2"
  },
  "language_info": {
   "codemirror_mode": {
    "name": "ipython",
    "version": 2
   },
   "file_extension": ".py",
   "mimetype": "text/x-python",
   "name": "python",
   "nbconvert_exporter": "python",
   "pygments_lexer": "ipython2",
   "version": "2.7.14"
  }
 },
 "nbformat": 4,
 "nbformat_minor": 1
}
