{
 "cells": [
  {
   "cell_type": "markdown",
   "metadata": {},
   "source": [
    "This notebook was prepared by [Donne Martin](https://github.com/donnemartin). Source and license info is on [GitHub](https://github.com/donnemartin/interactive-coding-challenges)."
   ]
  },
  {
   "cell_type": "markdown",
   "metadata": {},
   "source": [
    "# Challenge Notebook"
   ]
  },
  {
   "cell_type": "markdown",
   "metadata": {},
   "source": [
    "## Problem: Find the highest product of three numbers in a list."
   ]
  },
  {
   "cell_type": "markdown",
   "metadata": {},
   "source": [
    "## Constraints\n",
    "\n",
    "* Is the input a list of integers?\n",
    "    * Yes\n",
    "* Can we get negative inputs?\n",
    "    * Yes\n",
    "* Can there be duplicate entries in the input?\n",
    "    * Yes\n",
    "* Will there always be at least three integers?\n",
    "    * No\n",
    "* Can we assume the inputs are valid?\n",
    "    * No, check for None input\n",
    "* Can we assume this fits memory?\n",
    "    * Yes"
   ]
  },
  {
   "cell_type": "markdown",
   "metadata": {},
   "source": [
    "## Test Cases\n",
    "\n",
    "* None -> TypeError\n",
    "* Less than three ints -> ValueError\n",
    "* [5, -2, 3] -> -30\n",
    "* [5, -2, 3, 1, -1, 4] -> 60"
   ]
  },
  {
   "cell_type": "markdown",
   "metadata": {},
   "source": [
    "## Code"
   ]
  },
  {
   "cell_type": "code",
   "execution_count": 1,
   "metadata": {},
   "outputs": [],
   "source": [
    "class Solution(object):\n",
    "\n",
    "    def max_prod_three(self, array):\n",
    "        # TODO: Implement me\n",
    "        if array is None:\n",
    "            raise TypeError\n",
    "        elif len(array)<3:\n",
    "            raise ValueError\n",
    "        else:\n",
    "            array = sorted(array, reverse=True)\n",
    "            return array[0]*array[1]*array[2]"
   ]
  },
  {
   "cell_type": "markdown",
   "metadata": {},
   "source": [
    "## Unit Test"
   ]
  },
  {
   "cell_type": "markdown",
   "metadata": {},
   "source": [
    "**The following unit test is expected to fail until you solve the challenge.**"
   ]
  },
  {
   "cell_type": "code",
   "execution_count": 2,
   "metadata": {},
   "outputs": [
    {
     "name": "stdout",
     "output_type": "stream",
     "text": [
      "Success: test_prod_three\n"
     ]
    }
   ],
   "source": [
    "from nose.tools import assert_equal, assert_raises\n",
    "\n",
    "\n",
    "class TestProdThree(object):\n",
    "\n",
    "    def test_prod_three(self):\n",
    "        solution = Solution()\n",
    "        assert_raises(TypeError, solution.max_prod_three, None)\n",
    "        assert_raises(ValueError, solution.max_prod_three, [1, 2])\n",
    "        assert_equal(solution.max_prod_three([5, -2, 3]), -30)\n",
    "        assert_equal(solution.max_prod_three([5, -2, 3, 1, -1, 4]), 60)\n",
    "        print('Success: test_prod_three')\n",
    "\n",
    "\n",
    "def main():\n",
    "    test = TestProdThree()\n",
    "    test.test_prod_three()\n",
    "\n",
    "\n",
    "if __name__ == '__main__':\n",
    "    main()"
   ]
  }
 ],
 "metadata": {
  "kernelspec": {
   "display_name": "Python 2",
   "language": "python",
   "name": "python2"
  },
  "language_info": {
   "codemirror_mode": {
    "name": "ipython",
    "version": 2
   },
   "file_extension": ".py",
   "mimetype": "text/x-python",
   "name": "python",
   "nbconvert_exporter": "python",
   "pygments_lexer": "ipython2",
   "version": "2.7.14"
  }
 },
 "nbformat": 4,
 "nbformat_minor": 1
}
