{
 "cells": [
  {
   "cell_type": "markdown",
   "metadata": {},
   "source": [
    "This notebook was prepared by [Donne Martin](https://github.com/donnemartin). Source and license info is on [GitHub](https://github.com/donnemartin/interactive-coding-challenges)."
   ]
  },
  {
   "cell_type": "markdown",
   "metadata": {},
   "source": [
    "# Challenge Notebook"
   ]
  },
  {
   "cell_type": "markdown",
   "metadata": {},
   "source": [
    "## Problem: Implement the method draw_line(screen, width, x1, x2) where screen is a list of bytes, width is divisible by 8, and x1, x2 are absolute pixel positions."
   ]
  },
  {
   "cell_type": "markdown",
   "metadata": {},
   "source": [
    "## Constraints\n",
    "\n",
    "* Can we assume the inputs are valid?\n",
    "    * No\n",
    "* For the output, do we set corresponding bits in screen?\n",
    "    * Yes\n",
    "* Can we assume this fits memory?\n",
    "    * Yes"
   ]
  },
  {
   "cell_type": "markdown",
   "metadata": {},
   "source": [
    "## Test Cases\n",
    "\n",
    "* Invalid inputs -> Exception\n",
    "    * screen is empty\n",
    "    * width = 0\n",
    "    * any input param is None\n",
    "    * x1 or x2 is out of bounds\n",
    "* General case for len(screen) = 20, width = 32:\n",
    "    * x1 = 2, x2 = 6\n",
    "        * screen[0] = int('00111110', base=2)\n",
    "    * x1 = 68, x2 = 80\n",
    "        * screen[8], int('00001111', base=2)\n",
    "        * screen[9], int('11111111', base=2)\n",
    "        * screen[10], int('10000000', base=2)"
   ]
  },
  {
   "cell_type": "markdown",
   "metadata": {},
   "source": [
    "## Code"
   ]
  },
  {
   "cell_type": "code",
   "execution_count": 1,
   "metadata": {
    "collapsed": true
   },
   "outputs": [],
   "source": [
    "class BitsScreen(object):\n",
    "\n",
    "    def draw_line(self, screen, width, x1, x2):\n",
    "        # TODO: Implement me\n",
    "        if any([screen, width, x1, x2]) is None\\\n",
    "            or screen == [] or width == 0 \\\n",
    "            or x1>x2 or x1>len(screen)*width/8:\n",
    "            raise ValueError\n",
    "        idx1 = x1/8\n",
    "        bit_idx = x1%8\n",
    "        no_bits = x2-x1+1\n",
    "        while(no_bits>0):\n",
    "            if bit_idx + no_bits <= 8:\n",
    "                value1 = 8-bit_idx\n",
    "                value2 = value1-no_bits\n",
    "                screen[idx1] |= ((1<<value1)-1) - ((1<<value2)-1)\n",
    "                no_bits -= value1\n",
    "            else:\n",
    "                value1 = 8-bit_idx\n",
    "                screen[idx1] |= ((1<<value1)-1)\n",
    "                idx1 += 1\n",
    "                no_bits -= value1\n",
    "                bit_idx = 0\n",
    "\n",
    "                \n",
    "                \n",
    "# screen = []\n",
    "# for _ in range(20):\n",
    "#     screen.append(int('00000000', base=2))\n",
    "# bits_screen = BitsScreen()\n",
    "# bits_screen.draw_line(screen, width=32, x1=2, x2=6)\n",
    "# print screen[0] == int('00110000', base=2)\n",
    "        "
   ]
  },
  {
   "cell_type": "markdown",
   "metadata": {},
   "source": [
    "## Unit Test"
   ]
  },
  {
   "cell_type": "markdown",
   "metadata": {},
   "source": [
    "**The following unit test is expected to fail until you solve the challenge.**"
   ]
  },
  {
   "cell_type": "code",
   "execution_count": 2,
   "metadata": {},
   "outputs": [
    {
     "name": "stdout",
     "output_type": "stream",
     "text": [
      "Success: test_draw_line\n"
     ]
    }
   ],
   "source": [
    "# %load test_draw_line.py\n",
    "from nose.tools import assert_equal\n",
    "\n",
    "\n",
    "class TestBitsScreen(object):\n",
    "\n",
    "    def test_draw_line(self):\n",
    "        bits_screen = BitsScreen()\n",
    "        screen = []\n",
    "        for _ in range(20):\n",
    "            screen.append(int('00000000', base=2))\n",
    "        bits_screen.draw_line(screen, width=32, x1=68, x2=80)\n",
    "        assert_equal(screen[8], int('00001111', base=2))\n",
    "        assert_equal(screen[9], int('11111111', base=2))\n",
    "        assert_equal(screen[10], int('10000000', base=2))\n",
    "        bits_screen.draw_line(screen, width=32, x1=2, x2=6)\n",
    "        assert_equal(screen[0], int('00111110', base=2))\n",
    "        bits_screen.draw_line(screen, width=32, x1=10, x2=13)\n",
    "        assert_equal(screen[1], int('00111100', base=2))\n",
    "        print('Success: test_draw_line')\n",
    "\n",
    "\n",
    "def main():\n",
    "    test = TestBitsScreen()\n",
    "    test.test_draw_line()\n",
    "\n",
    "\n",
    "if __name__ == '__main__':\n",
    "    main()"
   ]
  }
 ],
 "metadata": {
  "kernelspec": {
   "display_name": "Python 2",
   "language": "python",
   "name": "python2"
  },
  "language_info": {
   "codemirror_mode": {
    "name": "ipython",
    "version": 2
   },
   "file_extension": ".py",
   "mimetype": "text/x-python",
   "name": "python",
   "nbconvert_exporter": "python",
   "pygments_lexer": "ipython2",
   "version": "2.7.14"
  }
 },
 "nbformat": 4,
 "nbformat_minor": 1
}
