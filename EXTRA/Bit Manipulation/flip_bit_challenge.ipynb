{
 "cells": [
  {
   "cell_type": "markdown",
   "metadata": {},
   "source": [
    "This notebook was prepared by [Donne Martin](https://github.com/donnemartin). Source and license info is on [GitHub](https://github.com/donnemartin/interactive-coding-challenges)."
   ]
  },
  {
   "cell_type": "markdown",
   "metadata": {},
   "source": [
    "# Challenge Notebook"
   ]
  },
  {
   "cell_type": "markdown",
   "metadata": {},
   "source": [
    "## Problem: Flip one bit from 0 to 1 to maximize the longest sequence of 1s."
   ]
  },
  {
   "cell_type": "markdown",
   "metadata": {},
   "source": [
    "## Constraints\n",
    "\n",
    "* Is the input an int, base 2?\n",
    "    * Yes\n",
    "* Can we assume the input is a 32 bit number?\n",
    "    * Yes\n",
    "* Do we have to validate the length of the input?\n",
    "    * No\n",
    "* Is the output an int?\n",
    "    * Yes\n",
    "* Can we assume the inputs are valid?\n",
    "    * No\n",
    "* Can we assume we are using a positive number since Python doesn't have an >>> operator?\n",
    "    * Yes\n",
    "* Can we assume this fits memory?\n",
    "    * Yes"
   ]
  },
  {
   "cell_type": "markdown",
   "metadata": {},
   "source": [
    "## Test Cases\n",
    "\n",
    "* None -> Exception\n",
    "* All 1's -> Count of 1s\n",
    "* All 0's -> 1\n",
    "* General case\n",
    "    * 0000 1111 1101 1101 1111 0011 1111 0000 -> 10 (ten)"
   ]
  },
  {
   "cell_type": "markdown",
   "metadata": {},
   "source": [
    "## Code"
   ]
  },
  {
   "cell_type": "code",
   "execution_count": 1,
   "metadata": {
    "collapsed": true
   },
   "outputs": [],
   "source": [
    "class Bits(object):\n",
    "    def __init__(self):\n",
    "        self.MAX_BITS = float(\"-inf\")\n",
    "\n",
    "    def re_represent(self, number):\n",
    "        # change number into a list of numbers. So, 1001 will be [1,0,0,1]\n",
    "        if number<0 or number==None:\n",
    "            raise KeyError\n",
    "        elif number<=1:\n",
    "            lst = [str(number)]\n",
    "        else:\n",
    "            div, remainder = number/2, number%2\n",
    "            lst = [str(remainder)]\n",
    "            while(div != 0):\n",
    "                remainder = div%2\n",
    "                lst.insert(0, str(remainder))\n",
    "                div = div/2\n",
    "        return lst\n",
    "                \n",
    "    def get_max_seq(self, num, max_count):\n",
    "        #num is a list of zeros and ones\n",
    "        if num[0]==0:\n",
    "            return self.get_max_seq(num[1:], max_count)\n",
    "        else:\n",
    "            flipped = False\n",
    "            count = 0\n",
    "            for i, n in enumerate(num):\n",
    "                if n == \"0\" and flipped == False:\n",
    "                    idx = i\n",
    "                    flipped = True\n",
    "                    count += 1\n",
    "                elif n == \"0\" and flipped == True:\n",
    "                    if count>max_count:\n",
    "                        max_count = count\n",
    "                    return self.get_max_seq(num[idx+1:], max_count)                      \n",
    "                else:\n",
    "                    count += 1\n",
    "            if count> max_count:\n",
    "                return count\n",
    "            return max_count\n",
    "\n",
    "    \n",
    "    def flip_bit(self, num):\n",
    "        # TODO: Implement me\n",
    "        if num is None:\n",
    "            raise TypeError\n",
    "        elif num == -1:\n",
    "            return self.MAX_BITS\n",
    "        elif num == 0:\n",
    "            return 1\n",
    "        else:\n",
    "            lst = self.re_represent(num)\n",
    "            return self.get_max_seq(lst, 1)"
   ]
  },
  {
   "cell_type": "markdown",
   "metadata": {},
   "source": [
    "## Unit Test"
   ]
  },
  {
   "cell_type": "markdown",
   "metadata": {},
   "source": [
    "**The following unit test is expected to fail until you solve the challenge.**"
   ]
  },
  {
   "cell_type": "code",
   "execution_count": 2,
   "metadata": {},
   "outputs": [
    {
     "name": "stdout",
     "output_type": "stream",
     "text": [
      "Success: test_print_binary\n"
     ]
    }
   ],
   "source": [
    "from nose.tools import assert_equal, assert_raises\n",
    "\n",
    "\n",
    "class TestBits(object):\n",
    "\n",
    "    def test_flip_bit(self):\n",
    "        bits = Bits()\n",
    "        assert_raises(TypeError, bits.flip_bit, None)\n",
    "        assert_equal(bits.flip_bit(0), 1)\n",
    "        assert_equal(bits.flip_bit(-1), bits.MAX_BITS)\n",
    "        num = int('00001111110111011110001111110000', base=2)\n",
    "        expected = 10\n",
    "        assert_equal(bits.flip_bit(num), expected)\n",
    "        num = int('00000100111011101111100011111011', base=2)\n",
    "        expected = 9\n",
    "        assert_equal(bits.flip_bit(num), expected)\n",
    "        num = int('00010011101110111110001111101111', base=2)\n",
    "        expected = 10\n",
    "        assert_equal(bits.flip_bit(num), expected)\n",
    "        print('Success: test_print_binary')\n",
    "\n",
    "\n",
    "def main():\n",
    "    test = TestBits()\n",
    "    test.test_flip_bit()\n",
    "\n",
    "\n",
    "if __name__ == '__main__':\n",
    "    main()"
   ]
  }
 ],
 "metadata": {
  "kernelspec": {
   "display_name": "Python 2",
   "language": "python",
   "name": "python2"
  },
  "language_info": {
   "codemirror_mode": {
    "name": "ipython",
    "version": 2
   },
   "file_extension": ".py",
   "mimetype": "text/x-python",
   "name": "python",
   "nbconvert_exporter": "python",
   "pygments_lexer": "ipython2",
   "version": "2.7.14"
  }
 },
 "nbformat": 4,
 "nbformat_minor": 1
}
