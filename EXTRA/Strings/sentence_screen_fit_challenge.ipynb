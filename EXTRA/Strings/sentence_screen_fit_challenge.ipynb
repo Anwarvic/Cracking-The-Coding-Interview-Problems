{
 "cells": [
  {
   "cell_type": "markdown",
   "metadata": {},
   "source": [
    "This notebook was prepared by [Donne Martin](https://github.com/donnemartin). Source and license info is on [GitHub](https://github.com/donnemartin/interactive-coding-challenges)."
   ]
  },
  {
   "cell_type": "markdown",
   "metadata": {},
   "source": [
    "# Challenge Notebook"
   ]
  },
  {
   "cell_type": "markdown",
   "metadata": {},
   "source": [
    "## Problem: Find how many times a sentence can fit on a screen.\n",
    "\n",
    "See the [LeetCode](https://leetcode.com/problems/sentence-screen-fitting/) problem page.\n",
    "\n",
    "<pre>\n",
    "Given a rows x cols screen and a sentence represented by a list of non-empty words, find how many times the given sentence can be fitted on the screen.\n",
    "\n",
    "Note:\n",
    "\n",
    "A word cannot be split into two lines.\n",
    "The order of words in the sentence must remain unchanged.\n",
    "Two consecutive words in a line must be separated by a single space.\n",
    "Total words in the sentence won't exceed 100.\n",
    "Length of each word is greater than 0 and won't exceed 10.\n",
    "1 ≤ rows, cols ≤ 20,000.\n",
    "Example 1:\n",
    "\n",
    "Input:\n",
    "rows = 2, cols = 8, sentence = [\"hello\", \"world\"]\n",
    "\n",
    "Output: \n",
    "1\n",
    "\n",
    "Explanation:\n",
    "hello---\n",
    "world---\n",
    "\n",
    "The character '-' signifies an empty space on the screen.\n",
    "Example 2:\n",
    "\n",
    "Input:\n",
    "rows = 3, cols = 6, sentence = [\"a\", \"bcd\", \"e\"]\n",
    "\n",
    "Output: \n",
    "2\n",
    "\n",
    "Explanation:\n",
    "a-bcd- \n",
    "e-a---\n",
    "bcd-e-\n",
    "\n",
    "The character '-' signifies an empty space on the screen.\n",
    "Example 3:\n",
    "\n",
    "Input:\n",
    "rows = 4, cols = 5, sentence = [\"I\", \"had\", \"apple\", \"pie\"]\n",
    "\n",
    "Output: \n",
    "1\n",
    "\n",
    "Explanation:\n",
    "I-had\n",
    "apple\n",
    "pie-I\n",
    "had--\n",
    "\n",
    "The character '-' signifies an empty space on the screen.\n",
    "</pre>\n",
    "\n",
    "* [Constraints](#Constraints)\n",
    "* [Test Cases](#Test-Cases)\n",
    "* [Algorithm](#Algorithm)\n",
    "* [Code](#Code)\n",
    "* [Unit Test](#Unit-Test)\n",
    "* [Solution Notebook](#Solution-Notebook)"
   ]
  },
  {
   "cell_type": "markdown",
   "metadata": {},
   "source": [
    "## Constraints\n",
    "\n",
    "* Can we assume sentence is ASCII?\n",
    "    * Yes\n",
    "* Can we assume the inputs are valid?\n",
    "    * No\n",
    "* Is the output an integer?\n",
    "    * Yes\n",
    "* Can we assume this fits memory?\n",
    "    * Yes"
   ]
  },
  {
   "cell_type": "markdown",
   "metadata": {},
   "source": [
    "## Test Cases\n",
    "\n",
    "* None -> TypeError\n",
    "* rows < 0 or cols < 0 -> ValueError\n",
    "* cols = 0 -> 0\n",
    "* sentence = '' -> 0\n",
    "* rows = 2, cols = 8, sentence = [\"hello\", \"world\"] -> 1\n",
    "* rows = 3, cols = 6, sentence = [\"a\", \"bcd\", \"e\"] -> 2\n",
    "* rows = 4, cols = 5, sentence = [\"I\", \"had\", \"apple\", \"pie\"] -> 1"
   ]
  },
  {
   "cell_type": "markdown",
   "metadata": {},
   "source": [
    "## Code"
   ]
  },
  {
   "cell_type": "code",
   "execution_count": 1,
   "metadata": {},
   "outputs": [],
   "source": [
    "class Solution(object):\n",
    "\n",
    "    def count_sentence_fit(self, sentence, rows, cols):\n",
    "        # TODO: Implement me\n",
    "        if any([not sentence, not rows, not cols]):\n",
    "            raise TypeError\n",
    "        elif rows<0 or cols<0:\n",
    "            raise ValueError\n",
    "        elif cols == 0 or len(sentence)==1 and sentence[0] == \"\":\n",
    "            return 0\n",
    "        else:\n",
    "            no_times = 0\n",
    "            remain_cols = cols\n",
    "            while(rows >= 0):\n",
    "                for word in sentence:\n",
    "                    if (len(word)+1) <= remain_cols:\n",
    "                        remain_cols -= (len(word)+1)\n",
    "                    else:\n",
    "                        if rows == 0:\n",
    "                            return no_times\n",
    "                        else:\n",
    "                            rows -= 1\n",
    "                            remain_cols = cols - (len(word)+1)\n",
    "                no_times += 1\n",
    "            return no_times"
   ]
  },
  {
   "cell_type": "markdown",
   "metadata": {},
   "source": [
    "## Unit Test"
   ]
  },
  {
   "cell_type": "markdown",
   "metadata": {},
   "source": [
    "**The following unit test is expected to fail until you solve the challenge.**"
   ]
  },
  {
   "cell_type": "code",
   "execution_count": 2,
   "metadata": {},
   "outputs": [
    {
     "name": "stdout",
     "output_type": "stream",
     "text": [
      "Success: test_count_sentence_fit\n"
     ]
    }
   ],
   "source": [
    "from nose.tools import assert_equal, assert_raises\n",
    "\n",
    "\n",
    "class TestSolution(object):\n",
    "\n",
    "    def test_count_sentence_fit(self):\n",
    "        solution = Solution()\n",
    "        assert_raises(TypeError, solution.count_sentence_fit, \n",
    "                      None, None, None)\n",
    "        assert_raises(ValueError, solution.count_sentence_fit, \n",
    "                      'abc', rows=-1, cols=-1)\n",
    "        sentence = [\"hello\", \"world\"]\n",
    "        expected = 1\n",
    "        assert_equal(solution.count_sentence_fit(sentence, rows=2, cols=8), expected)\n",
    "        sentence = [\"a\", \"bcd\", \"e\"]\n",
    "        expected = 2\n",
    "        assert_equal(solution.count_sentence_fit(sentence, rows=3, cols=6), expected)\n",
    "        sentence = [\"I\", \"had\", \"apple\", \"pie\"]\n",
    "        expected = 1\n",
    "        assert_equal(solution.count_sentence_fit(sentence, rows=4, cols=5), expected)\n",
    "        print('Success: test_count_sentence_fit')\n",
    "\n",
    "\n",
    "def main():\n",
    "    test = TestSolution()\n",
    "    test.test_count_sentence_fit()\n",
    "\n",
    "\n",
    "if __name__ == '__main__':\n",
    "    main()"
   ]
  }
 ],
 "metadata": {
  "kernelspec": {
   "display_name": "Python 2",
   "language": "python",
   "name": "python2"
  },
  "language_info": {
   "codemirror_mode": {
    "name": "ipython",
    "version": 2
   },
   "file_extension": ".py",
   "mimetype": "text/x-python",
   "name": "python",
   "nbconvert_exporter": "python",
   "pygments_lexer": "ipython2",
   "version": "2.7.14"
  }
 },
 "nbformat": 4,
 "nbformat_minor": 1
}
