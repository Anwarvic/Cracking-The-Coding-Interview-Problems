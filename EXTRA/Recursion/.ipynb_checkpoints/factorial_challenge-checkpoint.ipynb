{
 "cells": [
  {
   "cell_type": "markdown",
   "metadata": {},
   "source": [
    "# Challenge Notebook"
   ]
  },
  {
   "cell_type": "markdown",
   "metadata": {},
   "source": [
    "## Problem: Implement function to calculate factorials recursively, dynamically, and iteratively."
   ]
  },
  {
   "cell_type": "markdown",
   "metadata": {},
   "source": [
    "## Constraints\n",
    "\n",
    "* Does the sequence start at 0 or 1?\n",
    "    * 0\n",
    "* Can we assume the inputs are valid non-negative ints?\n",
    "    * Yes\n",
    "* Can we assume this fits memory?\n",
    "    * Yes"
   ]
  },
  {
   "cell_type": "markdown",
   "metadata": {},
   "source": [
    "## Test Cases\n",
    "\n",
    "* n = 0 -> 1\n",
    "* n = 1 -> 1\n",
    "* n = 6 -> 720"
   ]
  },
  {
   "cell_type": "markdown",
   "metadata": {},
   "source": [
    "## Code"
   ]
  },
  {
   "cell_type": "code",
   "execution_count": 1,
   "metadata": {
    "collapsed": true
   },
   "outputs": [],
   "source": [
    "class Math(object):\n",
    "\n",
    "    def fac_iterative(self, n):\n",
    "        # TODO: Implement me\n",
    "        output = 1\n",
    "        for i in range(1, n+1):\n",
    "            output *= i\n",
    "        return output\n",
    "\n",
    "    def fac_recursive(self, n):\n",
    "        # TODO: Implement me\n",
    "        if n<=1:\n",
    "            return 1\n",
    "        else:\n",
    "            return n*self.fac_recursive(n-1)\n",
    "\n",
    "    def fac_dynamic(self, n):\n",
    "        # TODO: Implement me\n",
    "        output = [1]\n",
    "        for i in range(1, n+1):\n",
    "            output.append( i*output[i-1] )\n",
    "        return output[n]"
   ]
  },
  {
   "cell_type": "markdown",
   "metadata": {},
   "source": [
    "## Unit Test\n",
    "\n",
    "\n",
    "\n",
    "**The following unit test is expected to fail until you solve the challenge.**"
   ]
  },
  {
   "cell_type": "code",
   "execution_count": 2,
   "metadata": {},
   "outputs": [
    {
     "name": "stdout",
     "output_type": "stream",
     "text": [
      "Success: test_fac\n",
      "Success: test_fac\n",
      "Success: test_fac\n"
     ]
    }
   ],
   "source": [
    "from nose.tools import assert_equal\n",
    "\n",
    "\n",
    "class TestFib(object):\n",
    "\n",
    "    def test_fac(self, func):\n",
    "        result = []\n",
    "        expected = [1, 1, 2, 6, 24, 120, 720, 5040, 40320, 362880]\n",
    "        for i in range(len(expected)):\n",
    "            result.append(func(i))\n",
    "        assert_equal(result, expected)\n",
    "        print('Success: test_fac')\n",
    "\n",
    "\n",
    "def main():\n",
    "    test = TestFib()\n",
    "    math = Math()\n",
    "    test.test_fac(math.fac_recursive)\n",
    "    test.test_fac(math.fac_dynamic)\n",
    "    test.test_fac(math.fac_iterative)\n",
    "\n",
    "\n",
    "if __name__ == '__main__':\n",
    "    main()"
   ]
  }
 ],
 "metadata": {
  "kernelspec": {
   "display_name": "Python 2",
   "language": "python",
   "name": "python2"
  },
  "language_info": {
   "codemirror_mode": {
    "name": "ipython",
    "version": 2
   },
   "file_extension": ".py",
   "mimetype": "text/x-python",
   "name": "python",
   "nbconvert_exporter": "python",
   "pygments_lexer": "ipython2",
   "version": "2.7.14"
  }
 },
 "nbformat": 4,
 "nbformat_minor": 1
}
