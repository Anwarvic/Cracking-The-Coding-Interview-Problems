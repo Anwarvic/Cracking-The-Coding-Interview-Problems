{
 "cells": [
  {
   "cell_type": "markdown",
   "metadata": {},
   "source": [
    "This notebook was prepared by [Donne Martin](http://donnemartin.com). Source and license info is on [GitHub](https://github.com/donnemartin/interactive-coding-challenges)."
   ]
  },
  {
   "cell_type": "markdown",
   "metadata": {},
   "source": [
    "# Challenge Notebook"
   ]
  },
  {
   "cell_type": "markdown",
   "metadata": {},
   "source": [
    "## Problem: Partition a linked list around a value x, such that all nodes less than x come before all nodes greater than or equal to x."
   ]
  },
  {
   "cell_type": "markdown",
   "metadata": {},
   "source": [
    "## Constraints\n",
    "\n",
    "* Can we assume this is a non-circular, singly linked list?\n",
    "    * Yes\n",
    "* Do we expect the function to return a new list?\n",
    "    * Yes\n",
    "* Can we assume the input x is valid?\n",
    "    * Yes\n",
    "* Can we assume we already have a linked list class that can be used for this problem?\n",
    "    * Yes\n",
    "* Can we create additional data structures?\n",
    "    * Yes\n",
    "* Can we assume this fits in memory?\n",
    "    * Yes"
   ]
  },
  {
   "cell_type": "markdown",
   "metadata": {},
   "source": [
    "## Test Cases\n",
    "\n",
    "* Empty list -> []\n",
    "* One element list -> [element]\n",
    "* Left linked list is empty\n",
    "* Right linked list is empty\n",
    "* General case\n",
    "    * Partition = 10\n",
    "    * Input:  4, 3, 7, 8, 10, 1, 10, 12\n",
    "    * Output: 4, 3, 7, 8, 1, 10, 10, 12"
   ]
  },
  {
   "cell_type": "markdown",
   "metadata": {},
   "source": [
    "## Code"
   ]
  },
  {
   "cell_type": "code",
   "execution_count": 1,
   "metadata": {
    "collapsed": true
   },
   "outputs": [],
   "source": [
    "%run linked_list.py"
   ]
  },
  {
   "cell_type": "code",
   "execution_count": 2,
   "metadata": {
    "collapsed": true
   },
   "outputs": [],
   "source": [
    "class MyLinkedList(LinkedList):\n",
    "\n",
    "    def partition(self, data):\n",
    "        # TODO: Implement me\n",
    "        tmp = self.head\n",
    "        if tmp is None:\n",
    "            return []\n",
    "        elif tmp.data == data and tmp.next == None:\n",
    "            return [data]\n",
    "        else:\n",
    "            left_result = LinkedList()\n",
    "            right_result = LinkedList()\n",
    "            while tmp != None:\n",
    "                if tmp.data < data:\n",
    "                    left_result.append(tmp.data)\n",
    "                elif tmp.data == data:\n",
    "                    right_result.insert_to_front(tmp.data)\n",
    "                else:\n",
    "                    right_result.append(tmp.data)\n",
    "                tmp = tmp.next\n",
    "            tmp = right_result.head\n",
    "            while tmp != None:\n",
    "                left_result.append(tmp.data)\n",
    "                tmp = tmp.next\n",
    "            return left_result\n",
    "        "
   ]
  },
  {
   "cell_type": "markdown",
   "metadata": {},
   "source": [
    "## Unit Test"
   ]
  },
  {
   "cell_type": "markdown",
   "metadata": {},
   "source": [
    "\n",
    "\n",
    "**The following unit test is expected to fail until you solve the challenge.**"
   ]
  },
  {
   "cell_type": "code",
   "execution_count": 3,
   "metadata": {},
   "outputs": [
    {
     "name": "stdout",
     "output_type": "stream",
     "text": [
      "Test: Empty list\n",
      "Test: One element list, left list empty\n",
      "Test: Right list is empty\n",
      "Test: General case\n",
      "Success: test_partition\n"
     ]
    }
   ],
   "source": [
    "from nose.tools import assert_equal\n",
    "\n",
    "\n",
    "class TestPartition(object):\n",
    "\n",
    "    def test_partition(self):\n",
    "        print('Test: Empty list')\n",
    "        linked_list = MyLinkedList(None)\n",
    "        linked_list.partition(10)\n",
    "        assert_equal(linked_list.get_all_data(), [])\n",
    "\n",
    "        print('Test: One element list, left list empty')\n",
    "        linked_list = MyLinkedList(Node(5))\n",
    "        linked_list.partition(0)\n",
    "        assert_equal(linked_list.get_all_data(), [5])\n",
    "\n",
    "        print('Test: Right list is empty')\n",
    "        linked_list = MyLinkedList(Node(5))\n",
    "        linked_list.partition(10)\n",
    "        assert_equal(linked_list.get_all_data(), [5])\n",
    "\n",
    "        print('Test: General case')\n",
    "        # Partition = 10\n",
    "        # Input: 4, 3, 13, 8, 10, 1, 14, 10, 12\n",
    "        # Output: 4, 3, 8, 1, 10, 10, 13, 14, 12\n",
    "        linked_list = MyLinkedList(Node(12))\n",
    "        linked_list.insert_to_front(10)\n",
    "        linked_list.insert_to_front(14)\n",
    "        linked_list.insert_to_front(1)\n",
    "        linked_list.insert_to_front(10)\n",
    "        linked_list.insert_to_front(8)\n",
    "        linked_list.insert_to_front(13)\n",
    "        linked_list.insert_to_front(3)\n",
    "        linked_list.insert_to_front(4)\n",
    "        partitioned_list = linked_list.partition(10)\n",
    "        assert_equal(partitioned_list.get_all_data(),\n",
    "                     [4, 3, 8, 1, 10, 10, 13, 14, 12])\n",
    "\n",
    "        print('Success: test_partition')\n",
    "\n",
    "\n",
    "def main():\n",
    "    test = TestPartition()\n",
    "    test.test_partition()\n",
    "\n",
    "\n",
    "if __name__ == '__main__':\n",
    "    main()"
   ]
  }
 ],
 "metadata": {
  "kernelspec": {
   "display_name": "Python 2",
   "language": "python",
   "name": "python2"
  },
  "language_info": {
   "codemirror_mode": {
    "name": "ipython",
    "version": 2
   },
   "file_extension": ".py",
   "mimetype": "text/x-python",
   "name": "python",
   "nbconvert_exporter": "python",
   "pygments_lexer": "ipython2",
   "version": "2.7.14"
  }
 },
 "nbformat": 4,
 "nbformat_minor": 1
}
