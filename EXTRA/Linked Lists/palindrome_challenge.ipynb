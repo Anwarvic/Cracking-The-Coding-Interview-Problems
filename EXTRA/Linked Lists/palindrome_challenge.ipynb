{
 "cells": [
  {
   "cell_type": "markdown",
   "metadata": {},
   "source": [
    "This notebook was prepared by [Donne Martin](http://donnemartin.com). Source and license info is on [GitHub](https://github.com/donnemartin/interactive-coding-challenges)."
   ]
  },
  {
   "cell_type": "markdown",
   "metadata": {},
   "source": [
    "# Challenge Notebook"
   ]
  },
  {
   "cell_type": "markdown",
   "metadata": {},
   "source": [
    "## Problem: Determine if a linked list is a palindrome. Palindrome means that the list can be read from the back the same as from the end."
   ]
  },
  {
   "cell_type": "markdown",
   "metadata": {},
   "source": [
    "## Constraints\n",
    "\n",
    "* Can we assume this is a non-circular, singly linked list?\n",
    "    * Yes\n",
    "* Is a single character or number a palindrome?\n",
    "    * No\n",
    "* Can we assume we already have a linked list class that can be used for this problem?\n",
    "    * Yes\n",
    "* Can we use additional data structures?\n",
    "    * Yes\n",
    "* Can we assume this fits in memory?\n",
    "    * Yes"
   ]
  },
  {
   "cell_type": "markdown",
   "metadata": {},
   "source": [
    "## Test Cases\n",
    "\n",
    "\n",
    "* Empty list -> False\n",
    "* Single element list -> False\n",
    "* Two or more element list, not a palindrome -> False\n",
    "* General case: Palindrome with even length -> True\n",
    "<pre>\n",
    "1 -> 2 -> 2 -> 1\n",
    "</pre>\n",
    "* General case: Palindrome with odd length -> True\n",
    "<pre>\n",
    "1 -> 2 -> 3 -> 2 -> 1\n",
    "</pre>"
   ]
  },
  {
   "cell_type": "markdown",
   "metadata": {},
   "source": [
    "## Code"
   ]
  },
  {
   "cell_type": "code",
   "execution_count": 1,
   "metadata": {
    "collapsed": true
   },
   "outputs": [],
   "source": [
    "# %run linked_list.py"
   ]
  },
  {
   "cell_type": "code",
   "execution_count": 2,
   "metadata": {
    "collapsed": true
   },
   "outputs": [],
   "source": [
    "class MyLinkedList(LinkedList):\n",
    "\n",
    "    def is_palindrome(self):\n",
    "        # TODO: Implement me\n",
    "        length = 0\n",
    "        rev = LinkedList()\n",
    "        tmp = self.head\n",
    "        \n",
    "        #getting the reversed_list and length\n",
    "        while(tmp != None):\n",
    "            rev.insert_to_front(tmp.data)\n",
    "            tmp = tmp.next\n",
    "            length += 1\n",
    "        if self.head == None or length == 1:\n",
    "            return False\n",
    "        \n",
    "        #check part\n",
    "        counter = 0\n",
    "        tmp = self.head\n",
    "        rev_tmp = rev.head\n",
    "        while(counter != length/2):\n",
    "            if tmp.data != rev_tmp.data:\n",
    "                return False\n",
    "            tmp = tmp.next\n",
    "            rev_tmp = rev_tmp.next\n",
    "            counter += 1\n",
    "        return True\n",
    "            "
   ]
  },
  {
   "cell_type": "markdown",
   "metadata": {},
   "source": [
    "## Unit Test"
   ]
  },
  {
   "cell_type": "markdown",
   "metadata": {},
   "source": [
    "\n",
    "\n",
    "**The following unit test is expected to fail until you solve the challenge.**"
   ]
  },
  {
   "cell_type": "code",
   "execution_count": 3,
   "metadata": {},
   "outputs": [
    {
     "name": "stdout",
     "output_type": "stream",
     "text": [
      "Test: Empty list\n",
      "Test: Single element list\n",
      "Test: Two element list, not a palindrome\n",
      "Test: General case: Palindrome with even length\n",
      "Test: General case: Palindrome with odd length\n",
      "Success: test_palindrome\n"
     ]
    }
   ],
   "source": [
    "from nose.tools import assert_equal\n",
    "\n",
    "\n",
    "class TestPalindrome(object):\n",
    "\n",
    "    def test_palindrome(self):\n",
    "        print('Test: Empty list')\n",
    "        linked_list = MyLinkedList()\n",
    "        assert_equal(linked_list.is_palindrome(), False)\n",
    "\n",
    "        print('Test: Single element list')\n",
    "        head = Node(1)\n",
    "        linked_list = MyLinkedList(head)\n",
    "        assert_equal(linked_list.is_palindrome(), False)\n",
    "\n",
    "        print('Test: Two element list, not a palindrome')\n",
    "        linked_list.append(2)\n",
    "        assert_equal(linked_list.is_palindrome(), False)\n",
    "\n",
    "        print('Test: General case: Palindrome with even length')\n",
    "        head = Node('a')\n",
    "        linked_list = MyLinkedList(head)\n",
    "        linked_list.append('b')\n",
    "        linked_list.append('b')\n",
    "        linked_list.append('a')\n",
    "        assert_equal(linked_list.is_palindrome(), True)\n",
    "\n",
    "        print('Test: General case: Palindrome with odd length')\n",
    "        head = Node(1)\n",
    "        linked_list = MyLinkedList(head)\n",
    "        linked_list.append(2)\n",
    "        linked_list.append(3)\n",
    "        linked_list.append(2)\n",
    "        linked_list.append(1)\n",
    "        assert_equal(linked_list.is_palindrome(), True)\n",
    "\n",
    "        print('Success: test_palindrome')\n",
    "\n",
    "\n",
    "def main():\n",
    "    test = TestPalindrome()\n",
    "    test.test_palindrome()\n",
    "\n",
    "\n",
    "if __name__ == '__main__':\n",
    "    main()"
   ]
  }
 ],
 "metadata": {
  "kernelspec": {
   "display_name": "Python 2",
   "language": "python",
   "name": "python2"
  },
  "language_info": {
   "codemirror_mode": {
    "name": "ipython",
    "version": 2
   },
   "file_extension": ".py",
   "mimetype": "text/x-python",
   "name": "python",
   "nbconvert_exporter": "python",
   "pygments_lexer": "ipython2",
   "version": "2.7.14"
  }
 },
 "nbformat": 4,
 "nbformat_minor": 1
}
