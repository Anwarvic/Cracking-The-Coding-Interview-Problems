{
 "cells": [
  {
   "cell_type": "markdown",
   "metadata": {},
   "source": [
    "This notebook was prepared by [Donne Martin](http://donnemartin.com). Source and license info is on [GitHub](https://github.com/donnemartin/interactive-coding-challenges)."
   ]
  },
  {
   "cell_type": "markdown",
   "metadata": {},
   "source": [
    "# Challenge Notebook"
   ]
  },
  {
   "cell_type": "markdown",
   "metadata": {},
   "source": [
    "## Problem: Implement a stack with push, pop, and min methods running O(1) time.\n",
    "\n",
    "* [Constraints](#Constraints)\n",
    "* [Test Cases](#Test-Cases)\n",
    "* [Algorithm](#Algorithm)\n",
    "* [Code](#Code)\n",
    "* [Unit Test](#Unit-Test)\n",
    "* [Solution Notebook](#Solution-Notebook)"
   ]
  },
  {
   "cell_type": "markdown",
   "metadata": {},
   "source": [
    "## Constraints\n",
    "\n",
    "* Can we assume this is a stack of ints?\n",
    "    * Yes\n",
    "* Can we assume the input values for push are valid?\n",
    "    * Yes\n",
    "* If we call this function on an empty stack, can we return sys.maxsize?\n",
    "    * Yes\n",
    "* Can we assume we already have a stack class that can be used for this problem?\n",
    "    * Yes\n",
    "* Can we assume this fits memory?\n",
    "    * Yes"
   ]
  },
  {
   "cell_type": "markdown",
   "metadata": {},
   "source": [
    "## Test Cases\n",
    "\n",
    "* Push/pop on empty stack\n",
    "* Push/pop on non-empty stack\n",
    "* Min on empty stack\n",
    "* Min on non-empty stack"
   ]
  },
  {
   "cell_type": "markdown",
   "metadata": {},
   "source": [
    "## Algorithm\n",
    "\n",
    "Refer to the [Solution Notebook](http://nbviewer.ipython.org/github/donnemartin/interactive-coding-challenges/blob/master/stacks_queues/stack_min/stack_min_solution.ipynb).  If you are stuck and need a hint, the solution notebook's algorithm discussion might be a good place to start."
   ]
  },
  {
   "cell_type": "markdown",
   "metadata": {},
   "source": [
    "## Code"
   ]
  },
  {
   "cell_type": "code",
   "execution_count": 1,
   "metadata": {},
   "outputs": [],
   "source": [
    "import sys\n",
    "class Node():\n",
    "    def __init__(self, num, mini):\n",
    "        self.data = num\n",
    "        self.minimum = mini\n",
    "\n",
    "\n",
    "class StackMin():\n",
    "\n",
    "    def __init__(self, top=None):\n",
    "        # TODO: Implement me\n",
    "        self.stack = []\n",
    "        if top != None:\n",
    "            self.stack.append(Node(top, top))\n",
    "\n",
    "    def peek(self):\n",
    "        if len(self.stack)!=0:\n",
    "            return self.stack[-1].data\n",
    "        return None\n",
    "    \n",
    "    def minimum(self):\n",
    "        # TODO: Implement me\n",
    "        return sys.maxsize if len(self.stack)==0 else self.stack[-1].minimum\n",
    "\n",
    "    def push(self, data):\n",
    "        # TODO: Implement me\n",
    "        if data != None:\n",
    "            if len(self.stack)==0:\n",
    "                tmp = Node(data, data)\n",
    "            else:\n",
    "                if data > self.minimum():\n",
    "                    tmp = Node(data, self.minimum())\n",
    "                else:\n",
    "                    tmp = Node(data, data)\n",
    "            self.stack.append(tmp)\n",
    "\n",
    "    def pop(self):\n",
    "        # TODO: Implement me\n",
    "        if len(self.stack) != 0:\n",
    "            return self.stack.pop().data\n",
    "        else:\n",
    "            return None"
   ]
  },
  {
   "cell_type": "markdown",
   "metadata": {},
   "source": [
    "## Unit Test\n",
    "\n",
    "\n",
    "\n",
    "**The following unit test is expected to fail until you solve the challenge.**"
   ]
  },
  {
   "cell_type": "code",
   "execution_count": 2,
   "metadata": {},
   "outputs": [
    {
     "name": "stdout",
     "output_type": "stream",
     "text": [
      "Test: Push on empty stack, non-empty stack\n",
      "Test: Pop on non-empty stack\n",
      "Test: Pop empty stack\n",
      "Success: test_stack_min\n"
     ]
    }
   ],
   "source": [
    "from nose.tools import assert_equal\n",
    "\n",
    "\n",
    "class TestStackMin(object):\n",
    "\n",
    "    def test_stack_min(self):\n",
    "        print('Test: Push on empty stack, non-empty stack')\n",
    "        stack = StackMin()\n",
    "        stack.push(5)\n",
    "        assert_equal(stack.peek(), 5)\n",
    "        assert_equal(stack.minimum(), 5)\n",
    "        stack.push(1)\n",
    "        assert_equal(stack.peek(), 1)\n",
    "        assert_equal(stack.minimum(), 1)\n",
    "        stack.push(3)\n",
    "        assert_equal(stack.peek(), 3)\n",
    "        assert_equal(stack.minimum(), 1)\n",
    "        stack.push(0)\n",
    "        assert_equal(stack.peek(), 0)\n",
    "        assert_equal(stack.minimum(), 0)\n",
    "\n",
    "        print('Test: Pop on non-empty stack')\n",
    "        assert_equal(stack.pop(), 0)\n",
    "        assert_equal(stack.minimum(), 1)\n",
    "        assert_equal(stack.pop(), 3)\n",
    "        assert_equal(stack.minimum(), 1)\n",
    "        assert_equal(stack.pop(), 1)\n",
    "        assert_equal(stack.minimum(), 5)\n",
    "        assert_equal(stack.pop(), 5)\n",
    "        assert_equal(stack.minimum(), sys.maxsize)\n",
    "\n",
    "        print('Test: Pop empty stack')\n",
    "        assert_equal(stack.pop(), None)\n",
    "\n",
    "        print('Success: test_stack_min')\n",
    "\n",
    "\n",
    "def main():\n",
    "    test = TestStackMin()\n",
    "    test.test_stack_min()\n",
    "\n",
    "\n",
    "if __name__ == '__main__':\n",
    "    main()"
   ]
  },
  {
   "cell_type": "markdown",
   "metadata": {},
   "source": [
    "## Solution Notebook\n",
    "\n",
    "Review the [Solution Notebook](http://nbviewer.ipython.org/github/donnemartin/interactive-coding-challenges/blob/master/stacks_queues/stack_min/stack_min_solution.ipynb) for a discussion on algorithms and code solutions."
   ]
  }
 ],
 "metadata": {
  "kernelspec": {
   "display_name": "Python 2",
   "language": "python",
   "name": "python2"
  },
  "language_info": {
   "codemirror_mode": {
    "name": "ipython",
    "version": 2
   },
   "file_extension": ".py",
   "mimetype": "text/x-python",
   "name": "python",
   "nbconvert_exporter": "python",
   "pygments_lexer": "ipython2",
   "version": "2.7.14"
  }
 },
 "nbformat": 4,
 "nbformat_minor": 1
}
