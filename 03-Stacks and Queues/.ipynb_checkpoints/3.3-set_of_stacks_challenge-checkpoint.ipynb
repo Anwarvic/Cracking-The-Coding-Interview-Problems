{
 "cells": [
  {
   "cell_type": "markdown",
   "metadata": {},
   "source": [
    "This notebook was prepared by [Donne Martin](http://donnemartin.com). Source and license info is on [GitHub](https://github.com/donnemartin/interactive-coding-challenges)."
   ]
  },
  {
   "cell_type": "markdown",
   "metadata": {},
   "source": [
    "# Challenge Notebook"
   ]
  },
  {
   "cell_type": "markdown",
   "metadata": {},
   "source": [
    "## Problem: Implement SetOfStacks that wraps a list of stacks, where each stack is bound by a capacity."
   ]
  },
  {
   "cell_type": "markdown",
   "metadata": {},
   "source": [
    "## Constraints\n",
    "\n",
    "* Can we assume we already have a stack class that can be used for this problem?\n",
    "    * Yes\n",
    "* Are all stack bound by the same capacity?\n",
    "    * Yes\n",
    "* If a stack becomes full, should automatically create one?\n",
    "    * Yes\n",
    "* If a stack becomes empty, should we delete it?\n",
    "    * Yes\n",
    "* If we pop on an empty stack, should we return None?\n",
    "    * Yes\n",
    "* Can we assume this fits memory?\n",
    "    * Yes"
   ]
  },
  {
   "cell_type": "markdown",
   "metadata": {},
   "source": [
    "## Test Cases\n",
    "\n",
    "* Push and pop on an empty stack\n",
    "* Push and pop on a non-empty stack\n",
    "* Push on a capacity stack to create a new one\n",
    "* Pop on a stack to destroy it"
   ]
  },
  {
   "cell_type": "markdown",
   "metadata": {},
   "source": [
    "## Code"
   ]
  },
  {
   "cell_type": "code",
   "execution_count": 1,
   "metadata": {},
   "outputs": [],
   "source": [
    "%run stack/stack.py"
   ]
  },
  {
   "cell_type": "code",
   "execution_count": 2,
   "metadata": {},
   "outputs": [],
   "source": [
    "class StackWithCapacity(Stack):\n",
    "\n",
    "    def __init__(self, top=None, capacity=10):\n",
    "        # TODO: Implement me\n",
    "        self.top = top\n",
    "        self.length = 0\n",
    "        self.capacity = capacity\n",
    "\n",
    "    def push(self, data):\n",
    "        # TODO: Implement me\n",
    "        if data != None:\n",
    "            if not self.is_full():\n",
    "                self.length += 1\n",
    "                tmp = self.top\n",
    "                if tmp == None:\n",
    "                    self.top = Node(data)\n",
    "                else:\n",
    "                    new = Node(data)\n",
    "                    tmp = self.top\n",
    "                    new.next = tmp\n",
    "                    self.top = new\n",
    "            else:\n",
    "                raise ValueError, \"Stack is Full!\"     \n",
    "\n",
    "    def pop(self):\n",
    "        # TODO: Implement me\n",
    "        if self.top != None:\n",
    "            output = self.top.data\n",
    "            tmp = self.top.next\n",
    "            self.top = tmp\n",
    "            self.length -= 1\n",
    "            return output\n",
    "        else:\n",
    "            raise ValueError, \"Stack is Empty!\"     \n",
    "\n",
    "    def is_full(self):\n",
    "        # TODO: Implement me\n",
    "        return self.length == self.capacity\n",
    "\n",
    "    def __repr__(self):\n",
    "        output = []\n",
    "        tmp = self.top\n",
    "        while(tmp != None):\n",
    "            output.append(str(tmp.data))\n",
    "            tmp = tmp.next\n",
    "        return \"[\"+\", \".join(output)+\"]\"\n",
    "\n",
    "\n",
    "class SetOfStacks(object):\n",
    "\n",
    "    def __init__(self, indiv_stack_capacity):\n",
    "        # TODO: Implement me\n",
    "        self.capacity = indiv_stack_capacity\n",
    "        self.stacks = [StackWithCapacity(capacity=self.capacity)]\n",
    "\n",
    "    def push(self, data):\n",
    "        # TODO: Implement me\n",
    "        if not self.stacks[-1].is_full():\n",
    "            self.stacks[-1].push( data )\n",
    "        else:\n",
    "            new_stack = StackWithCapacity(top=Node(data), capacity=self.capacity)\n",
    "            self.stacks.append(new_stack)\n",
    "\n",
    "    def pop(self):\n",
    "        # TODO: Implement me\n",
    "        if len(self.stacks)==0:\n",
    "            return None\n",
    "        else:\n",
    "            output = self.stacks[-1].pop()\n",
    "            if self.stacks[-1].top == None:\n",
    "                self.stacks.pop()\n",
    "            return output"
   ]
  },
  {
   "cell_type": "markdown",
   "metadata": {},
   "source": [
    "## Unit Test\n",
    "\n",
    "\n",
    "\n",
    "**The following unit test is expected to fail until you solve the challenge.**"
   ]
  },
  {
   "cell_type": "code",
   "execution_count": 3,
   "metadata": {},
   "outputs": [
    {
     "name": "stdout",
     "output_type": "stream",
     "text": [
      "Test: Push on an empty stack\n",
      "Test: Push on a non-empty stack\n",
      "Test: Push on a capacity stack to create a new one\n",
      "Test: Pop on a stack to destroy it\n",
      "Test: Pop general case\n",
      "Test: Pop on no elements\n",
      "Success: test_set_of_stacks\n"
     ]
    }
   ],
   "source": [
    "from nose.tools import assert_equal\n",
    "\n",
    "\n",
    "class TestSetOfStacks(object):\n",
    "\n",
    "    def test_set_of_stacks(self):\n",
    "        print('Test: Push on an empty stack')\n",
    "        stacks = SetOfStacks(indiv_stack_capacity=2)\n",
    "        stacks.push(3)\n",
    "\n",
    "        print('Test: Push on a non-empty stack')\n",
    "        stacks.push(5)\n",
    "\n",
    "        print('Test: Push on a capacity stack to create a new one')\n",
    "        stacks.push('a')\n",
    "\n",
    "        print('Test: Pop on a stack to destroy it')\n",
    "        assert_equal(stacks.pop(), 'a')\n",
    "\n",
    "        print('Test: Pop general case')\n",
    "        assert_equal(stacks.pop(), 5)\n",
    "        assert_equal(stacks.pop(), 3)\n",
    "\n",
    "        print('Test: Pop on no elements')\n",
    "        assert_equal(stacks.pop(), None)\n",
    "\n",
    "        print('Success: test_set_of_stacks')\n",
    "\n",
    "\n",
    "def main():\n",
    "    test = TestSetOfStacks()\n",
    "    test.test_set_of_stacks()\n",
    "\n",
    "\n",
    "if __name__ == '__main__':\n",
    "    main()"
   ]
  }
 ],
 "metadata": {
  "kernelspec": {
   "display_name": "Python 2",
   "language": "python",
   "name": "python2"
  },
  "language_info": {
   "codemirror_mode": {
    "name": "ipython",
    "version": 2
   },
   "file_extension": ".py",
   "mimetype": "text/x-python",
   "name": "python",
   "nbconvert_exporter": "python",
   "pygments_lexer": "ipython2",
   "version": "2.7.14"
  }
 },
 "nbformat": 4,
 "nbformat_minor": 1
}
