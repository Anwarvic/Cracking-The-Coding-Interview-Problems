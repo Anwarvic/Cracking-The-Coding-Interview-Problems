{
 "cells": [
  {
   "cell_type": "markdown",
   "metadata": {},
   "source": [
    "This notebook was prepared by [Donne Martin](https://github.com/donnemartin). Source and license info is on [GitHub](https://github.com/donnemartin/interactive-coding-challenges)."
   ]
  },
  {
   "cell_type": "markdown",
   "metadata": {},
   "source": [
    "# Challenge Notebook"
   ]
  },
  {
   "cell_type": "markdown",
   "metadata": {},
   "source": [
    "## Problem: Swap the odd and even bits of a positive integer with as few operations as possible."
   ]
  },
  {
   "cell_type": "markdown",
   "metadata": {},
   "source": [
    "## Constraints\n",
    "\n",
    "* Can we assume the input is always a positive int?\n",
    "    * Yes\n",
    "* Can we assume we're working with 32 bits?\n",
    "    * Yes\n",
    "* Is the output an int?\n",
    "    * Yes\n",
    "* Can we assume the inputs are valid (not None)?\n",
    "    * No\n",
    "* Can we assume this fits memory?\n",
    "    * Yes"
   ]
  },
  {
   "cell_type": "markdown",
   "metadata": {},
   "source": [
    "## Test Cases\n",
    "\n",
    "* None -> Exception\n",
    "* 0 -> 0\n",
    "* -1 -> -1\n",
    "* General case\n",
    "<pre>\n",
    "    input  = 1001 1111 0110\n",
    "    result = 0110 1111 1001\n",
    "<pre>"
   ]
  },
  {
   "cell_type": "markdown",
   "metadata": {},
   "source": [
    "## Code"
   ]
  },
  {
   "cell_type": "code",
   "execution_count": 1,
   "metadata": {
    "collapsed": true
   },
   "outputs": [],
   "source": [
    "class Bits(object):\n",
    "\n",
    "    def pairwise_swap(self, num):\n",
    "        # TODO: Implement me\n",
    "        if num is None:\n",
    "            raise ValueError\n",
    "        elif num in [0, -1, 1]:\n",
    "            return num\n",
    "        else:\n",
    "            odd = (num & int('1010101010101010', base=2)) >> 1\n",
    "            even = (num & int('0101010101010101', base=2)) << 1\n",
    "            return odd | even\n",
    "            "
   ]
  },
  {
   "cell_type": "markdown",
   "metadata": {},
   "source": [
    "## Unit Test"
   ]
  },
  {
   "cell_type": "markdown",
   "metadata": {},
   "source": [
    "**The following unit test is expected to fail until you solve the challenge.**"
   ]
  },
  {
   "cell_type": "code",
   "execution_count": 2,
   "metadata": {},
   "outputs": [
    {
     "name": "stdout",
     "output_type": "stream",
     "text": [
      "Success: test_pairwise_swap\n"
     ]
    }
   ],
   "source": [
    "from nose.tools import assert_equal\n",
    "\n",
    "\n",
    "class TestBits(object):\n",
    "\n",
    "    def test_pairwise_swap(self):\n",
    "        bits = Bits()\n",
    "        assert_equal(bits.pairwise_swap(0), 0)\n",
    "        assert_equal(bits.pairwise_swap(1), 1)\n",
    "        num = int('0000100111110110', base=2)\n",
    "        expected = int('0000011011111001', base=2)\n",
    "        assert_equal(bits.pairwise_swap(num), expected)\n",
    "        print('Success: test_pairwise_swap')\n",
    "\n",
    "\n",
    "def main():\n",
    "    test = TestBits()\n",
    "    test.test_pairwise_swap()\n",
    "\n",
    "\n",
    "if __name__ == '__main__':\n",
    "    main()"
   ]
  }
 ],
 "metadata": {
  "kernelspec": {
   "display_name": "Python 2",
   "language": "python",
   "name": "python2"
  },
  "language_info": {
   "codemirror_mode": {
    "name": "ipython",
    "version": 2
   },
   "file_extension": ".py",
   "mimetype": "text/x-python",
   "name": "python",
   "nbconvert_exporter": "python",
   "pygments_lexer": "ipython2",
   "version": "2.7.14"
  }
 },
 "nbformat": 4,
 "nbformat_minor": 1
}
