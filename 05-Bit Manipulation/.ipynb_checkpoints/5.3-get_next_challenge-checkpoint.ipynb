{
 "cells": [
  {
   "cell_type": "markdown",
   "metadata": {},
   "source": [
    "This notebook was prepared by [Donne Martin](https://github.com/donnemartin). Source and license info is on [GitHub](https://github.com/donnemartin/interactive-coding-challenges)."
   ]
  },
  {
   "cell_type": "markdown",
   "metadata": {},
   "source": [
    "# Challenge Notebook"
   ]
  },
  {
   "cell_type": "markdown",
   "metadata": {},
   "source": [
    "## Problem: Given a positive integer, get the next largest number and the next smallest number with the same number of 1's as the given number."
   ]
  },
  {
   "cell_type": "markdown",
   "metadata": {},
   "source": [
    "## Constraints\n",
    "\n",
    "* Is the output a positive int?\n",
    "    * Yes\n",
    "* Can we assume the inputs are valid?\n",
    "    * No\n",
    "* Can we assume this fits memory?\n",
    "    * Yes"
   ]
  },
  {
   "cell_type": "markdown",
   "metadata": {},
   "source": [
    "## Test Cases\n",
    "\n",
    "* None -> Exception\n",
    "* 0 -> Exception\n",
    "* negative int -> Exception\n",
    "* General case:\n",
    "<pre>\n",
    "    * Input:         0000 0000 1101 0111\n",
    "    * Next largest:  0000 0000 1101 1011\n",
    "    * Next smallest: 0000 0000 1100 1111\n",
    "</pre>"
   ]
  },
  {
   "cell_type": "markdown",
   "metadata": {},
   "source": [
    "## Code"
   ]
  },
  {
   "cell_type": "code",
   "execution_count": 1,
   "metadata": {
    "collapsed": true
   },
   "outputs": [],
   "source": [
    "class Bits(object):\n",
    "    def re_represent(self, number):\n",
    "        # change number into a list of numbers. So, 1001 will be [1,0,0,1]\n",
    "        if number<0 or number==None:\n",
    "            raise KeyError\n",
    "        elif number<=1:\n",
    "            lst = [str(number)]\n",
    "        else:\n",
    "            div, remainder = number/2, number%2\n",
    "            lst = [str(remainder)]\n",
    "            while(div != 0):\n",
    "                remainder = div%2\n",
    "                lst.insert(0, str(remainder))\n",
    "                div = div/2\n",
    "        return lst\n",
    " \n",
    "    def get_next_largest(self, num):\n",
    "        # TODO: Implement me\n",
    "        if num == None or num <= 0:\n",
    "            raise ValueError\n",
    "        num = self.re_represent(num)\n",
    "        for i in range(-1, -len(num)-1, -1):\n",
    "            if num[i] == \"0\":\n",
    "                num[i] = \"1\"\n",
    "                num[i+1] = \"0\"\n",
    "                return int(\"\".join(num), base=2)\n",
    "        return None\n",
    "            \n",
    "\n",
    "    def get_next_smallest(self, num):\n",
    "        # TODO: Implement me\n",
    "        if num == None or num <= 0:\n",
    "            raise ValueError\n",
    "        num = self.re_represent(num)\n",
    "        triggered = False\n",
    "        for i in range(len(num)):\n",
    "            if num[i] == \"0\" and triggered == False:\n",
    "                triggered = True\n",
    "            elif num[i] == \"0\" and triggered == True:\n",
    "                num[i] = \"1\"\n",
    "                num[i-1] = \"0\"\n",
    "                return int(\"\".join(num), base=2)\n",
    "        return None\n"
   ]
  },
  {
   "cell_type": "markdown",
   "metadata": {},
   "source": [
    "## Unit Test"
   ]
  },
  {
   "cell_type": "markdown",
   "metadata": {},
   "source": [
    "**The following unit test is expected to fail until you solve the challenge.**"
   ]
  },
  {
   "cell_type": "code",
   "execution_count": 2,
   "metadata": {},
   "outputs": [
    {
     "name": "stdout",
     "output_type": "stream",
     "text": [
      "Success: test_get_next_largest\n",
      "Success: test_get_next_smallest\n"
     ]
    }
   ],
   "source": [
    "from nose.tools import assert_equal, assert_raises\n",
    "\n",
    "\n",
    "class TestBits(object):\n",
    "\n",
    "    def test_get_next_largest(self):\n",
    "        bits = Bits()\n",
    "        assert_raises(Exception, bits.get_next_largest, None)\n",
    "        assert_raises(Exception, bits.get_next_largest, 0)\n",
    "        assert_raises(Exception, bits.get_next_largest, -1)\n",
    "        num = int('011010111', base=2)\n",
    "        expected = int('011011011', base=2)\n",
    "        assert_equal(bits.get_next_largest(num), expected)\n",
    "        print('Success: test_get_next_largest')\n",
    "\n",
    "    def test_get_next_smallest(self):\n",
    "        bits = Bits()\n",
    "        assert_raises(Exception, bits.get_next_smallest, None)\n",
    "        assert_raises(Exception, bits.get_next_smallest, 0)\n",
    "        assert_raises(Exception, bits.get_next_smallest, -1)\n",
    "        num = int('011010111', base=2)\n",
    "        expected = int('011001111', base=2)\n",
    "        assert_equal(bits.get_next_smallest(num), expected)\n",
    "        print('Success: test_get_next_smallest')\n",
    "\n",
    "def main():\n",
    "    test = TestBits()\n",
    "    test.test_get_next_largest()\n",
    "    test.test_get_next_smallest()\n",
    "\n",
    "\n",
    "if __name__ == '__main__':\n",
    "    main()"
   ]
  }
 ],
 "metadata": {
  "kernelspec": {
   "display_name": "Python 2",
   "language": "python",
   "name": "python2"
  },
  "language_info": {
   "codemirror_mode": {
    "name": "ipython",
    "version": 2
   },
   "file_extension": ".py",
   "mimetype": "text/x-python",
   "name": "python",
   "nbconvert_exporter": "python",
   "pygments_lexer": "ipython2",
   "version": "2.7.14"
  }
 },
 "nbformat": 4,
 "nbformat_minor": 1
}
