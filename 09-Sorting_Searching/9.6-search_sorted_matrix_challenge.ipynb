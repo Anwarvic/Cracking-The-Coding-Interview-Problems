{
 "cells": [
  {
   "cell_type": "markdown",
   "metadata": {},
   "source": [
    "This notebook was prepared by [Donne Martin](https://github.com/donnemartin). Source and license info is on [GitHub](https://github.com/donnemartin/interactive-coding-challenges)."
   ]
  },
  {
   "cell_type": "markdown",
   "metadata": {},
   "source": [
    "# Challenge Notebook"
   ]
  },
  {
   "cell_type": "markdown",
   "metadata": {},
   "source": [
    "## Problem: Search a sorted matrix for an item."
   ]
  },
  {
   "cell_type": "markdown",
   "metadata": {},
   "source": [
    "## Constraints\n",
    "\n",
    "* Are items in each row sorted?\n",
    "    * Yes\n",
    "* Are items in each column sorted?\n",
    "    * Yes\n",
    "* Is the sorting in ascending or descending order?\n",
    "    * Ascending\n",
    "* Is the matrix a rectangle?  Not jagged?\n",
    "    * Yes\n",
    "* Is the matrix square?\n",
    "    * Not necessarily\n",
    "* Is the output a tuple (row, col)?\n",
    "    * Yes\n",
    "* Is the item you are searching for always in the matrix?\n",
    "    * No\n",
    "* Can we assume the inputs are valid?\n",
    "    * No\n",
    "* Can we assume this fits memory?\n",
    "    * Yes"
   ]
  },
  {
   "cell_type": "markdown",
   "metadata": {},
   "source": [
    "## Test Cases\n",
    "\n",
    "* None -> Exception\n",
    "* General case\n",
    "    * Item found -> (row, col)\n",
    "    * Item not found -> None"
   ]
  },
  {
   "cell_type": "markdown",
   "metadata": {},
   "source": [
    "## Code"
   ]
  },
  {
   "cell_type": "code",
   "execution_count": 1,
   "metadata": {},
   "outputs": [
    {
     "name": "stdout",
     "output_type": "stream",
     "text": [
      "2\n"
     ]
    }
   ],
   "source": [
    "import numpy as np\n",
    "\n",
    "#helping function\n",
    "### NOTE: 'arr' must be sorted\n",
    "def binary_search(arr, val):\n",
    "    low, high = 0, len(arr)-1\n",
    "    while(True):\n",
    "        if high <= low:\n",
    "            return None\n",
    "        mid = low + (high-low)//2\n",
    "        if arr[mid] == val:\n",
    "            return mid\n",
    "        elif arr[mid] > val:\n",
    "            high = mid\n",
    "        elif arr[mid] < val:\n",
    "            low = mid + 1\n",
    "\n",
    "            \n",
    "print binary_search(np.array([10, 14, 19, 26, 27, 31, 33, 35, 42, 44]), 19)"
   ]
  },
  {
   "cell_type": "code",
   "execution_count": 2,
   "metadata": {},
   "outputs": [],
   "source": [
    "class SortedMatrix(object):\n",
    "\n",
    "    def find_val(self, matrix, val):\n",
    "        # TODO: Implement me\n",
    "        if matrix is None or val is None:\n",
    "            raise TypeError\n",
    "        \n",
    "        rows, cols = matrix.shape\n",
    "        if val > matrix[rows-1, cols-1] or val < matrix[0,0]:\n",
    "            return None\n",
    "        for i in range(rows):\n",
    "            if val > matrix[i,i] and val < matrix[i, cols-1]: #check the row\n",
    "                idx = binary_search(matrix[i,:], val)\n",
    "                if idx != None:\n",
    "                    return (i, idx)\n",
    "            if val > matrix[i,i] and val < matrix[rows-1, i]: #check the column\n",
    "                idx = binary_search(matrix[:,i], val)\n",
    "                if idx != None:\n",
    "                    return (idx, i)\n",
    "        return None\n"
   ]
  },
  {
   "cell_type": "markdown",
   "metadata": {},
   "source": [
    "## Unit Test"
   ]
  },
  {
   "cell_type": "markdown",
   "metadata": {},
   "source": [
    "**The following unit test is expected to fail until you solve the challenge.**"
   ]
  },
  {
   "cell_type": "code",
   "execution_count": 3,
   "metadata": {},
   "outputs": [
    {
     "name": "stdout",
     "output_type": "stream",
     "text": [
      "Success: test_find_val\n"
     ]
    }
   ],
   "source": [
    "from nose.tools import assert_equal, assert_raises\n",
    "\n",
    "class TestSortedMatrix(object):\n",
    "\n",
    "    def test_find_val(self):\n",
    "        matrix = np.array( [  [20, 40, 63, 80],\n",
    "                              [30, 50, 80, 90],\n",
    "                              [40, 60, 110, 110],\n",
    "                              [50, 65, 105, 150]   ])\n",
    "        sorted_matrix = SortedMatrix()\n",
    "        assert_raises(TypeError, sorted_matrix.find_val, None, None)\n",
    "        assert_equal(sorted_matrix.find_val(matrix, 1000), None)\n",
    "        assert_equal(sorted_matrix.find_val(matrix, 60), (2, 1))\n",
    "        print('Success: test_find_val')\n",
    "\n",
    "\n",
    "def main():\n",
    "    test = TestSortedMatrix()\n",
    "    test.test_find_val()\n",
    "\n",
    "\n",
    "if __name__ == '__main__':\n",
    "    main()"
   ]
  }
 ],
 "metadata": {
  "kernelspec": {
   "display_name": "Python 2",
   "language": "python",
   "name": "python2"
  },
  "language_info": {
   "codemirror_mode": {
    "name": "ipython",
    "version": 2
   },
   "file_extension": ".py",
   "mimetype": "text/x-python",
   "name": "python",
   "nbconvert_exporter": "python",
   "pygments_lexer": "ipython2",
   "version": "2.7.14"
  }
 },
 "nbformat": 4,
 "nbformat_minor": 1
}
