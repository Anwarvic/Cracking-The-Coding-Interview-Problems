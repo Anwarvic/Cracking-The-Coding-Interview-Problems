{
 "cells": [
  {
   "cell_type": "markdown",
   "metadata": {},
   "source": [
    "This notebook was prepared by [Donne Martin](http://donnemartin.com). Source and license info is on [GitHub](https://github.com/donnemartin/interactive-coding-challenges)."
   ]
  },
  {
   "cell_type": "markdown",
   "metadata": {},
   "source": [
    "# Challenge Notebook"
   ]
  },
  {
   "cell_type": "markdown",
   "metadata": {},
   "source": [
    "## Problem: Implement quick sort."
   ]
  },
  {
   "cell_type": "markdown",
   "metadata": {},
   "source": [
    "## Constraints\n",
    "\n",
    "* Is a naive solution sufficient (ie not in-place)?\n",
    "    * Yes\n",
    "* Are duplicates allowed?\n",
    "    * Yes\n",
    "* Can we assume the input is valid?\n",
    "    * No\n",
    "* Can we assume this fits memory?\n",
    "    * Yes"
   ]
  },
  {
   "cell_type": "markdown",
   "metadata": {},
   "source": [
    "## Test Cases\n",
    "\n",
    "* None -> Exception\n",
    "* Empty input -> []\n",
    "* One element -> [element]\n",
    "* Two or more elements"
   ]
  },
  {
   "cell_type": "markdown",
   "metadata": {},
   "source": [
    "## Code"
   ]
  },
  {
   "cell_type": "code",
   "execution_count": 2,
   "metadata": {},
   "outputs": [],
   "source": [
    "from random import randint\n",
    "class QuickSort(object):\n",
    "\n",
    "    def sort(self, data):\n",
    "        # TODO: Implement me\n",
    "        if data is None:\n",
    "            raise TypeError\n",
    "        elif len(data) <= 1:\n",
    "            return data\n",
    "        else:\n",
    "            pivot = randint(0, len(data)-1)\n",
    "            equal = []\n",
    "            left = []\n",
    "            right = []\n",
    "            for num in data:\n",
    "                if num == data[pivot]:\n",
    "                    equal.append(num)\n",
    "                elif num > data[pivot]:\n",
    "                    right.append(num)\n",
    "                else:\n",
    "                    left.append(num)\n",
    "            left = self.sort(left)\n",
    "            right = self.sort(right)\n",
    "            return left + equal + right\n",
    "                    \n",
    "            "
   ]
  },
  {
   "cell_type": "markdown",
   "metadata": {},
   "source": [
    "## Unit Test\n",
    "\n",
    "\n",
    "\n",
    "**The following unit test is expected to fail until you solve the challenge.**"
   ]
  },
  {
   "cell_type": "code",
   "execution_count": 3,
   "metadata": {},
   "outputs": [
    {
     "name": "stdout",
     "output_type": "stream",
     "text": [
      "None input\n",
      "Empty input\n",
      "One element\n",
      "Two or more elements\n",
      "Success: test_quick_sort\n",
      "\n"
     ]
    }
   ],
   "source": [
    "from nose.tools import assert_equal, assert_raises\n",
    "\n",
    "\n",
    "class TestQuickSort(object):\n",
    "\n",
    "    def test_quick_sort(self):\n",
    "        quick_sort = QuickSort()\n",
    "\n",
    "        print('None input')\n",
    "        assert_raises(TypeError, quick_sort.sort, None)\n",
    "\n",
    "        print('Empty input')\n",
    "        assert_equal(quick_sort.sort([]), [])\n",
    "\n",
    "        print('One element')\n",
    "        assert_equal(quick_sort.sort([5]), [5])\n",
    "\n",
    "        print('Two or more elements')\n",
    "        data = [5, 1, 7, 2, 6, -3, 5, 7, -1]\n",
    "        assert_equal(quick_sort.sort(data), sorted(data))\n",
    "\n",
    "        print('Success: test_quick_sort\\n')\n",
    "\n",
    "\n",
    "def main():\n",
    "    test = TestQuickSort()\n",
    "    test.test_quick_sort()\n",
    "\n",
    "\n",
    "if __name__ == '__main__':\n",
    "    main()"
   ]
  }
 ],
 "metadata": {
  "kernelspec": {
   "display_name": "Python 2",
   "language": "python",
   "name": "python2"
  },
  "language_info": {
   "codemirror_mode": {
    "name": "ipython",
    "version": 2
   },
   "file_extension": ".py",
   "mimetype": "text/x-python",
   "name": "python",
   "nbconvert_exporter": "python",
   "pygments_lexer": "ipython2",
   "version": "2.7.14"
  }
 },
 "nbformat": 4,
 "nbformat_minor": 1
}
