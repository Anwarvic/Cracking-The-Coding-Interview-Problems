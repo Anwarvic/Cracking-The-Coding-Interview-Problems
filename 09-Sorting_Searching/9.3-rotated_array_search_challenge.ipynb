{
 "cells": [
  {
   "cell_type": "markdown",
   "metadata": {},
   "source": [
    "This notebook was prepared by [Donne Martin](https://github.com/donnemartin). Source and license info is on [GitHub](https://github.com/donnemartin/interactive-coding-challenges)."
   ]
  },
  {
   "cell_type": "markdown",
   "metadata": {},
   "source": [
    "# Challenge Notebook"
   ]
  },
  {
   "cell_type": "markdown",
   "metadata": {},
   "source": [
    "## Problem: Find an element in a sorted array that has been rotated a number of times."
   ]
  },
  {
   "cell_type": "markdown",
   "metadata": {},
   "source": [
    "## Constraints\n",
    "\n",
    "* Is the input an array of ints?\n",
    "    * Yes\n",
    "* Do we know how many times the array was rotated?\n",
    "    * No\n",
    "* Was the array originally sorted in increasing or decreasing order?\n",
    "    * Increasing\n",
    "* For the output, do we return the index?\n",
    "    * Yes\n",
    "* Can we assume the inputs are valid?\n",
    "    * No\n",
    "* Can we assume this fits memory?\n",
    "    * Yes"
   ]
  },
  {
   "cell_type": "markdown",
   "metadata": {},
   "source": [
    "## Test Cases\n",
    "\n",
    "* None -> Exception\n",
    "* [] -> None\n",
    "* Not found -> None\n",
    "* [15, 16, 19, 20, 25, 1, 3, 4, 5, 7, 10, 14] -> 8 (the index of 5 in the array)"
   ]
  },
  {
   "cell_type": "markdown",
   "metadata": {},
   "source": [
    "## Code"
   ]
  },
  {
   "cell_type": "code",
   "execution_count": 1,
   "metadata": {},
   "outputs": [
    {
     "name": "stdout",
     "output_type": "stream",
     "text": [
      "8\n",
      "2\n"
     ]
    }
   ],
   "source": [
    "class Array(object):\n",
    "    \n",
    "    def binary_search(self, array, val):\n",
    "        if len(array)<=0:\n",
    "            return array\n",
    "        if array[-1] == val:\n",
    "            return len(array)-1\n",
    "        low, high = 0, len(array)-1\n",
    "        while(True):\n",
    "            if high <= low:\n",
    "                return None\n",
    "            mid = low + (high-low)//2\n",
    "            if array[mid] == val:\n",
    "                return mid\n",
    "            elif array[mid] < val:\n",
    "                low = mid+1\n",
    "            else:\n",
    "                high = mid\n",
    "        \n",
    "\n",
    "    def search_sorted_array(self, array, val):\n",
    "        # TODO: Implement me\n",
    "        if array is None or val is None:\n",
    "            raise TypeError\n",
    "        elif array == []:\n",
    "            return None\n",
    "        split = None\n",
    "        for idx, item in enumerate(array[:-1]):\n",
    "            if item > array[idx+1]:\n",
    "                split = idx+1\n",
    "                break\n",
    "        \n",
    "        if split == None: #has not been rotated\n",
    "            return self.binary_search(array, val)\n",
    "        else:\n",
    "            s1 = self.binary_search(array[:split], val)\n",
    "            s2 = self.binary_search(array[split:], val)\n",
    "            if s1 != None:\n",
    "                return s1\n",
    "            elif s2 != None:\n",
    "                return split + s2\n",
    "            else:\n",
    "                return None\n",
    "\n",
    "            \n",
    "print Array().binary_search([10, 14, 19, 26, 27, 31, 33, 35, 42, 44], 42)\n",
    "print Array().binary_search([1, 1, 2], 2)"
   ]
  },
  {
   "cell_type": "markdown",
   "metadata": {},
   "source": [
    "## Unit Test"
   ]
  },
  {
   "cell_type": "markdown",
   "metadata": {},
   "source": [
    "**The following unit test is expected to fail until you solve the challenge.**"
   ]
  },
  {
   "cell_type": "code",
   "execution_count": 2,
   "metadata": {},
   "outputs": [
    {
     "name": "stdout",
     "output_type": "stream",
     "text": [
      "Success: test_search_sorted_array\n"
     ]
    }
   ],
   "source": [
    "from nose.tools import assert_equal, assert_raises\n",
    "\n",
    "\n",
    "class TestArray(object):\n",
    "\n",
    "    def test_search_sorted_array(self):\n",
    "        array = Array()\n",
    "        assert_raises(TypeError, array.search_sorted_array, None)\n",
    "        assert_equal(array.search_sorted_array([3, 1, 2], 0), None)\n",
    "        assert_equal(array.search_sorted_array([3, 1, 2], 0), None)\n",
    "        data = [10, 12, 14,  1,  3,  5,  6,  7,  8,  9]\n",
    "        assert_equal(array.search_sorted_array(data, val=1), 3)\n",
    "        data = [ 1,  1,  2,  1,  1,  1,  1,  1,  1,  1]\n",
    "        assert_equal(array.search_sorted_array(data, val=2), 2)\n",
    "        print('Success: test_search_sorted_array')\n",
    "\n",
    "\n",
    "def main():\n",
    "    test = TestArray()\n",
    "    test.test_search_sorted_array()\n",
    "\n",
    "\n",
    "if __name__ == '__main__':\n",
    "    main()"
   ]
  }
 ],
 "metadata": {
  "kernelspec": {
   "display_name": "Python 2",
   "language": "python",
   "name": "python2"
  },
  "language_info": {
   "codemirror_mode": {
    "name": "ipython",
    "version": 2
   },
   "file_extension": ".py",
   "mimetype": "text/x-python",
   "name": "python",
   "nbconvert_exporter": "python",
   "pygments_lexer": "ipython2",
   "version": "2.7.14"
  }
 },
 "nbformat": 4,
 "nbformat_minor": 1
}
