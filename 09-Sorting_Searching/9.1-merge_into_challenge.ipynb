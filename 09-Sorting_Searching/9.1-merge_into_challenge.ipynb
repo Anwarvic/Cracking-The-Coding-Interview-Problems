{
 "cells": [
  {
   "cell_type": "markdown",
   "metadata": {},
   "source": [
    "This notebook was prepared by [Donne Martin](https://github.com/donnemartin). Source and license info is on [GitHub](https://github.com/donnemartin/interactive-coding-challenges)."
   ]
  },
  {
   "cell_type": "markdown",
   "metadata": {},
   "source": [
    "# Challenge Notebook"
   ]
  },
  {
   "cell_type": "markdown",
   "metadata": {},
   "source": [
    "## Problem: Given sorted arrays A, B, merge B into A in sorted order."
   ]
  },
  {
   "cell_type": "markdown",
   "metadata": {},
   "source": [
    "## Constraints\n",
    "\n",
    "* Does A have enough space for B?\n",
    "    * Yes\n",
    "* Can the inputs have duplicate array items?\n",
    "    * Yes\n",
    "* Can we assume the inputs are valid?\n",
    "    * No\n",
    "* Does the inputs also include the actual size of A and B?\n",
    "    * Yes\n",
    "* Can we assume this fits memory?\n",
    "    * Yes"
   ]
  },
  {
   "cell_type": "markdown",
   "metadata": {},
   "source": [
    "## Test Cases\n",
    "\n",
    "* A or B is None -> Exception\n",
    "* index of last A or B < 0 -> Exception\n",
    "* A or B is empty\n",
    "* General case\n",
    "    * A = [1,  3,  5,  7,  9,  None,  None,  None]\n",
    "    * B = [4,  5,  6]\n",
    "    * A = [1, 3, 4, 5, 5, 6, 7, 9]"
   ]
  },
  {
   "cell_type": "markdown",
   "metadata": {},
   "source": [
    "## Code"
   ]
  },
  {
   "cell_type": "code",
   "execution_count": 1,
   "metadata": {},
   "outputs": [],
   "source": [
    "class Array(object):\n",
    "\n",
    "    def merge_into(self, source, dest, source_end_index, dest_end_index):\n",
    "        # TODO: Implement me\n",
    "        if source is None or dest is None:\n",
    "            raise TypeError\n",
    "        elif source_end_index < 0 or dest_end_index < 0:\n",
    "            raise ValueError\n",
    "        elif source == [] or dest == []:\n",
    "            return source\n",
    "        \n",
    "        for b in dest:\n",
    "            for j, a in enumerate(source):\n",
    "                if b < a:\n",
    "                    source[j], b = b, source[j]\n",
    "                if a == None:\n",
    "                    source[j]= b\n",
    "                    continue\n",
    "        return source"
   ]
  },
  {
   "cell_type": "markdown",
   "metadata": {},
   "source": [
    "## Unit Test"
   ]
  },
  {
   "cell_type": "markdown",
   "metadata": {},
   "source": [
    "**The following unit test is expected to fail until you solve the challenge.**"
   ]
  },
  {
   "cell_type": "code",
   "execution_count": 2,
   "metadata": {},
   "outputs": [
    {
     "name": "stdout",
     "output_type": "stream",
     "text": [
      "Success: test_merge_into\n"
     ]
    }
   ],
   "source": [
    "from nose.tools import assert_equal, assert_raises\n",
    "\n",
    "\n",
    "class TestArray(object):\n",
    "\n",
    "    def test_merge_into(self):\n",
    "        array = Array()\n",
    "        assert_raises(TypeError, array.merge_into, None, None, None, None)\n",
    "        assert_raises(ValueError, array.merge_into, [1], [2], -1, -1)\n",
    "        a = [1, 2, 3]\n",
    "        assert_equal(array.merge_into(a, [], len(a), 0), [1, 2, 3])\n",
    "        a = [1, 2, 3]\n",
    "        assert_equal(array.merge_into(a, [], len(a), 0), [1, 2, 3])\n",
    "        a = [1,  3,  5,  7,  9,  None,  None,  None]\n",
    "        b = [4,  5,  6]\n",
    "        expected = [1, 3, 4, 5, 5, 6, 7, 9]\n",
    "        assert_equal(array.merge_into(a, b, 5, len(b)), expected)\n",
    "        print('Success: test_merge_into')\n",
    "\n",
    "\n",
    "def main():\n",
    "    test = TestArray()\n",
    "    test.test_merge_into()\n",
    "\n",
    "\n",
    "if __name__ == '__main__':\n",
    "    main()"
   ]
  }
 ],
 "metadata": {
  "kernelspec": {
   "display_name": "Python 2",
   "language": "python",
   "name": "python2"
  },
  "language_info": {
   "codemirror_mode": {
    "name": "ipython",
    "version": 2
   },
   "file_extension": ".py",
   "mimetype": "text/x-python",
   "name": "python",
   "nbconvert_exporter": "python",
   "pygments_lexer": "ipython2",
   "version": "2.7.14"
  }
 },
 "nbformat": 4,
 "nbformat_minor": 1
}
