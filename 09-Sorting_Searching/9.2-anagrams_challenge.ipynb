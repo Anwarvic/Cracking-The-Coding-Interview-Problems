{
 "cells": [
  {
   "cell_type": "markdown",
   "metadata": {},
   "source": [
    "This notebook was prepared by [Donne Martin](https://github.com/donnemartin). Source and license info is on [GitHub](https://github.com/donnemartin/interactive-coding-challenges)."
   ]
  },
  {
   "cell_type": "markdown",
   "metadata": {},
   "source": [
    "# Challenge Notebook"
   ]
  },
  {
   "cell_type": "markdown",
   "metadata": {},
   "source": [
    "## Problem: Sort an array of strings so all anagrams are next to each other."
   ]
  },
  {
   "cell_type": "markdown",
   "metadata": {},
   "source": [
    "## Constraints\n",
    "\n",
    "* Are there any other sorting requirements other than the grouping of anagrams?\n",
    "    * No\n",
    "* Can we assume the inputs are valid?\n",
    "    * No\n",
    "* Can we assume this fits memory?\n",
    "    * Yes"
   ]
  },
  {
   "cell_type": "markdown",
   "metadata": {},
   "source": [
    "## Test Cases\n",
    "\n",
    "* None -> Exception\n",
    "* [] -> []\n",
    "* General case\n",
    "    * Input: ['ram', 'act', 'arm', 'bat', 'cat', 'tab']\n",
    "    * Result: ['arm', 'ram', 'act', 'cat', 'bat', 'tab']"
   ]
  },
  {
   "cell_type": "markdown",
   "metadata": {},
   "source": [
    "## Code"
   ]
  },
  {
   "cell_type": "code",
   "execution_count": 1,
   "metadata": {},
   "outputs": [],
   "source": [
    "from collections import OrderedDict\n",
    "\n",
    "class Anagram(object):\n",
    "\n",
    "    def group_anagrams(self, items):\n",
    "        # TODO: Implement me\n",
    "        di = OrderedDict()\n",
    "        for item in items:\n",
    "            sorted_item = ''.join(sorted(item))\n",
    "            try:\n",
    "                di[sorted_item].append(item)\n",
    "            except KeyError:\n",
    "                di[sorted_item] = [item]\n",
    "        return [value for k,v in di.iteritems() for value in v]"
   ]
  },
  {
   "cell_type": "markdown",
   "metadata": {},
   "source": [
    "## Unit Test"
   ]
  },
  {
   "cell_type": "markdown",
   "metadata": {},
   "source": [
    "**The following unit test is expected to fail until you solve the challenge.**"
   ]
  },
  {
   "cell_type": "code",
   "execution_count": 2,
   "metadata": {},
   "outputs": [
    {
     "name": "stdout",
     "output_type": "stream",
     "text": [
      "Success: test_group_anagrams\n"
     ]
    }
   ],
   "source": [
    "from nose.tools import assert_equal, assert_raises\n",
    "\n",
    "\n",
    "class TestAnagrams(object):\n",
    "\n",
    "    def test_group_anagrams(self):\n",
    "        anagram = Anagram()\n",
    "        assert_raises(TypeError, anagram.group_anagrams, None)\n",
    "        data = ['ram', 'act', 'arm', 'bat', 'cat', 'tab']\n",
    "        expected = ['ram', 'arm', 'act', 'cat', 'bat', 'tab']\n",
    "        assert_equal(anagram.group_anagrams(data), expected)\n",
    "\n",
    "        print('Success: test_group_anagrams')\n",
    "\n",
    "\n",
    "def main():\n",
    "    test = TestAnagrams()\n",
    "    test.test_group_anagrams()\n",
    "\n",
    "\n",
    "if __name__ == '__main__':\n",
    "    main()"
   ]
  }
 ],
 "metadata": {
  "kernelspec": {
   "display_name": "Python 2",
   "language": "python",
   "name": "python2"
  },
  "language_info": {
   "codemirror_mode": {
    "name": "ipython",
    "version": 2
   },
   "file_extension": ".py",
   "mimetype": "text/x-python",
   "name": "python",
   "nbconvert_exporter": "python",
   "pygments_lexer": "ipython2",
   "version": "2.7.14"
  }
 },
 "nbformat": 4,
 "nbformat_minor": 1
}
