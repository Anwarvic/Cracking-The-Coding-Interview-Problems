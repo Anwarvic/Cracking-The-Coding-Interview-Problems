{
 "cells": [
  {
   "cell_type": "markdown",
   "metadata": {},
   "source": [
    "This notebook was prepared by [Donne Martin](http://donnemartin.com). Source and license info is on [GitHub](https://github.com/donnemartin/interactive-coding-challenges)."
   ]
  },
  {
   "cell_type": "markdown",
   "metadata": {},
   "source": [
    "# Challenge Notebook"
   ]
  },
  {
   "cell_type": "markdown",
   "metadata": {},
   "source": [
    "## Problem: Find the start of a linked list loop.\n"
   ]
  },
  {
   "cell_type": "markdown",
   "metadata": {},
   "source": [
    "## Constraints\n",
    "\n",
    "* Is this a singly linked list?\n",
    "    * Yes\n",
    "* Can we assume we are always passed a circular linked list?\n",
    "    * No\n",
    "* When we find a loop, do we return the node or the node's data?\n",
    "    * The node\n",
    "* Can we assume we already have a linked list class that can be used for this problem?\n",
    "    * Yes"
   ]
  },
  {
   "cell_type": "markdown",
   "metadata": {},
   "source": [
    "## Test Cases\n",
    "\n",
    "* Empty list -> None\n",
    "* Not a circular linked list -> None\n",
    "    * One element\n",
    "    * Two or more elements\n",
    "* Circular linked list general case"
   ]
  },
  {
   "cell_type": "markdown",
   "metadata": {},
   "source": [
    "## Code"
   ]
  },
  {
   "cell_type": "code",
   "execution_count": 1,
   "metadata": {
    "collapsed": true
   },
   "outputs": [],
   "source": [
    "class Node(object):\n",
    "\n",
    "    def __init__(self, data, next=None):\n",
    "        self.next = next\n",
    "        self.data = data\n",
    "\n",
    "    def __str__(self):\n",
    "        return self.data\n",
    "\n",
    "\n",
    "class LinkedList(object):\n",
    "\n",
    "    def __init__(self, head=None):\n",
    "        self.head = head\n",
    "\n",
    "    def __len__(self):\n",
    "        curr = self.head\n",
    "        counter = 0\n",
    "        while curr is not None:\n",
    "            counter += 1\n",
    "            curr = curr.next\n",
    "        return counter\n",
    "\n",
    "    def insert_to_front(self, data):\n",
    "        if data is None:\n",
    "            return None\n",
    "        node = Node(data, self.head)\n",
    "        self.head = node\n",
    "        return node\n",
    "\n",
    "    def append(self, data):\n",
    "        if data is None:\n",
    "            return None\n",
    "        node = Node(data)\n",
    "        if self.head is None:\n",
    "            self.head = node\n",
    "            return node\n",
    "        curr_node = self.head\n",
    "        while curr_node.next is not None:\n",
    "            curr_node = curr_node.next\n",
    "        curr_node.next = node\n",
    "        return node\n",
    "\n",
    "    def find(self, data):\n",
    "        if data is None:\n",
    "            return None\n",
    "        curr_node = self.head\n",
    "        while curr_node is not None:\n",
    "            if curr_node.data == data:\n",
    "                return curr_node\n",
    "            curr_node = curr_node.next\n",
    "        return None\n",
    "\n",
    "    def delete(self, data):\n",
    "        if data is None:\n",
    "            return\n",
    "        if self.head is None:\n",
    "            return\n",
    "        if self.head.data == data:\n",
    "            self.head = self.head.next\n",
    "            return\n",
    "        prev_node = self.head\n",
    "        curr_node = self.head.next\n",
    "        while curr_node is not None:\n",
    "            if curr_node.data == data:\n",
    "                prev_node.next = curr_node.next\n",
    "                return\n",
    "            prev_node = curr_node\n",
    "            curr_node = curr_node.next\n",
    "\n",
    "    def delete_alt(self, data):\n",
    "        if data is None:\n",
    "            return\n",
    "        if self.head is None:\n",
    "            return\n",
    "        curr_node = self.head\n",
    "        if curr_node.data == data:\n",
    "            curr_node = curr_node.next\n",
    "            return\n",
    "        while curr_node.next is not None:\n",
    "            if curr_node.next.data == data:\n",
    "                curr_node.next = curr_node.next.next\n",
    "                return\n",
    "            curr_node = curr_node.next\n",
    "\n",
    "    def print_list(self):\n",
    "        curr_node = self.head\n",
    "        while curr_node is not None:\n",
    "            print(curr_node.data)\n",
    "            curr_node = curr_node.next\n",
    "\n",
    "    def get_all_data(self):\n",
    "        data = []\n",
    "        curr_node = self.head\n",
    "        while curr_node is not None:\n",
    "            data.append(curr_node.data)\n",
    "            curr_node = curr_node.next\n",
    "        return data"
   ]
  },
  {
   "cell_type": "code",
   "execution_count": 4,
   "metadata": {
    "collapsed": true
   },
   "outputs": [],
   "source": [
    "class MyLinkedList(LinkedList):\n",
    "\n",
    "    def find_loop_start(self):\n",
    "        # TODO: Implement me\n",
    "        tmp1 = self.head\n",
    "        tmp2 = self.head\n",
    "        if tmp1 == None or tmp2 == None: #either is an empty linked list\n",
    "            return None\n",
    "        while(tmp2.next != None):\n",
    "            tmp1 = tmp1.next\n",
    "            tmp2 = tmp2.next.next\n",
    "            if tmp1 == None or tmp2 == None:\n",
    "                return None\n",
    "            elif tmp1.data == tmp2.data:\n",
    "                break\n",
    "        if tmp2.next == None: #non-circular linked list\n",
    "            return None\n",
    "        tmp1 = self.head\n",
    "        while(tmp2.next != None):\n",
    "            tmp1 = tmp1.next\n",
    "            tmp2 = tmp2.next\n",
    "            if tmp1.data == tmp2.data:\n",
    "                return tmp1"
   ]
  },
  {
   "cell_type": "markdown",
   "metadata": {},
   "source": [
    "## Unit Test"
   ]
  },
  {
   "cell_type": "markdown",
   "metadata": {},
   "source": [
    "\n",
    "\n",
    "**The following unit test is expected to fail until you solve the challenge.**"
   ]
  },
  {
   "cell_type": "code",
   "execution_count": 5,
   "metadata": {},
   "outputs": [
    {
     "name": "stdout",
     "output_type": "stream",
     "text": [
      "Test: Empty list\n",
      "Test: Not a circular linked list: One element\n",
      "Test: Not a circular linked list: Two elements\n",
      "Test: Not a circular linked list: Three or more elements\n",
      "Test: General case: Circular linked list\n",
      "Success: test_find_loop_start\n"
     ]
    }
   ],
   "source": [
    "from nose.tools import assert_equal\n",
    "\n",
    "\n",
    "class TestFindLoopStart(object):\n",
    "\n",
    "    def test_find_loop_start(self):\n",
    "        print('Test: Empty list')\n",
    "        linked_list = MyLinkedList()\n",
    "        assert_equal(linked_list.find_loop_start(), None)\n",
    "\n",
    "        print('Test: Not a circular linked list: One element')\n",
    "        head = Node(1)\n",
    "        linked_list = MyLinkedList(head)\n",
    "        assert_equal(linked_list.find_loop_start(), None)\n",
    "\n",
    "        print('Test: Not a circular linked list: Two elements')\n",
    "        linked_list.append(2)\n",
    "        assert_equal(linked_list.find_loop_start(), None)\n",
    "\n",
    "        print('Test: Not a circular linked list: Three or more elements')\n",
    "        linked_list.append(3)\n",
    "        assert_equal(linked_list.find_loop_start(), None)\n",
    "\n",
    "        print('Test: General case: Circular linked list')\n",
    "        node10 = Node(10)\n",
    "        node9 = Node(9, node10)\n",
    "        node8 = Node(8, node9)\n",
    "        node7 = Node(7, node8)\n",
    "        node6 = Node(6, node7)\n",
    "        node5 = Node(5, node6)\n",
    "        node4 = Node(4, node5)\n",
    "        node3 = Node(3, node4)\n",
    "        node2 = Node(2, node3)\n",
    "        node1 = Node(1, node2)\n",
    "        node0 = Node(0, node1)\n",
    "        node10.next = node3\n",
    "        linked_list = MyLinkedList(node0)\n",
    "        assert_equal(linked_list.find_loop_start(), node3)\n",
    "\n",
    "        print('Success: test_find_loop_start')\n",
    "\n",
    "\n",
    "def main():\n",
    "    test = TestFindLoopStart()\n",
    "    test.test_find_loop_start()\n",
    "\n",
    "\n",
    "if __name__ == '__main__':\n",
    "    main()"
   ]
  }
 ],
 "metadata": {
  "kernelspec": {
   "display_name": "Python 2",
   "language": "python",
   "name": "python2"
  },
  "language_info": {
   "codemirror_mode": {
    "name": "ipython",
    "version": 2
   },
   "file_extension": ".py",
   "mimetype": "text/x-python",
   "name": "python",
   "nbconvert_exporter": "python",
   "pygments_lexer": "ipython2",
   "version": "2.7.14"
  }
 },
 "nbformat": 4,
 "nbformat_minor": 1
}
