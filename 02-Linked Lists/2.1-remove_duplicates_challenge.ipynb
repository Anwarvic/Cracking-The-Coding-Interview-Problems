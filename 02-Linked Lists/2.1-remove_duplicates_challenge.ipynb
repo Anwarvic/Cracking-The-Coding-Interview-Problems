{
 "cells": [
  {
   "cell_type": "markdown",
   "metadata": {},
   "source": [
    "This notebook was prepared by [Donne Martin](http://donnemartin.com). Source and license info is on [GitHub](https://github.com/donnemartin/interactive-coding-challenges)."
   ]
  },
  {
   "cell_type": "markdown",
   "metadata": {},
   "source": [
    "# Challenge Notebook"
   ]
  },
  {
   "cell_type": "markdown",
   "metadata": {},
   "source": [
    "## Problem: Remove duplicates from a linked list.\n",
    "\n",
    "* [Constraints](#Constraints)\n",
    "* [Test Cases](#Test-Cases)\n",
    "* [Algorithm](#Algorithm)\n",
    "* [Code](#Code)\n",
    "* [Unit Test](#Unit-Test)\n",
    "* [Solution Notebook](#Solution-Notebook)"
   ]
  },
  {
   "cell_type": "markdown",
   "metadata": {},
   "source": [
    "## Constraints\n",
    "\n",
    "* Can we assume this is a non-circular, singly linked list?\n",
    "    * Yes\n",
    "* Can you insert None values in the list?\n",
    "    * No\n",
    "* Can we assume we already have a linked list class that can be used for this problem?\n",
    "    * Yes\n",
    "* Can we use additional data structures?\n",
    "    * Implement both solutions\n",
    "* Can we assume this fits in memory?\n",
    "    * Yes"
   ]
  },
  {
   "cell_type": "markdown",
   "metadata": {},
   "source": [
    "## Test Cases\n",
    "\n",
    "* Empty linked list -> []\n",
    "* One element linked list -> [element]\n",
    "* General case with no duplicates\n",
    "* General case with duplicates"
   ]
  },
  {
   "cell_type": "markdown",
   "metadata": {},
   "source": [
    "## Algorithm\n",
    "\n",
    "Refer to the [Solution Notebook](http://nbviewer.ipython.org/github/donnemartin/interactive-coding-challenges/blob/master/linked_lists/remove_duplicates/remove_duplicates_solution.ipynb).  If you are stuck and need a hint, the solution notebook's algorithm discussion might be a good place to start."
   ]
  },
  {
   "cell_type": "markdown",
   "metadata": {},
   "source": [
    "## Code"
   ]
  },
  {
   "cell_type": "code",
   "execution_count": 1,
   "metadata": {
    "collapsed": true
   },
   "outputs": [],
   "source": [
    "%run ../linked_list/linked_list.py"
   ]
  },
  {
   "cell_type": "code",
   "execution_count": 2,
   "metadata": {},
   "outputs": [],
   "source": [
    "class MyLinkedList(LinkedList):\n",
    "\n",
    "    def remove_dupes(self):\n",
    "        # TODO: Implement me\n",
    "        if self.head == None:\n",
    "            return self\n",
    "        dupes = set([])\n",
    "        result = MyLinkedList()\n",
    "        tmp = self.head\n",
    "        while(tmp != None):\n",
    "            if tmp.data not in dupes:\n",
    "                dupes.add(tmp.data)\n",
    "                result.append(tmp.data)\n",
    "            tmp = tmp.next\n",
    "        self = result\n",
    "        return self"
   ]
  },
  {
   "cell_type": "markdown",
   "metadata": {},
   "source": [
    "## Unit Test"
   ]
  },
  {
   "cell_type": "markdown",
   "metadata": {},
   "source": [
    "\n",
    "\n",
    "**The following unit test is expected to fail until you solve the challenge.**"
   ]
  },
  {
   "cell_type": "code",
   "execution_count": 3,
   "metadata": {},
   "outputs": [
    {
     "name": "stdout",
     "output_type": "stream",
     "text": [
      "Test: Empty list\n",
      "Test: One element list\n",
      "Test: General case, duplicates\n",
      "Test: General case, no duplicates\n",
      "Success: test_remove_dupes\n",
      "\n"
     ]
    }
   ],
   "source": [
    "from nose.tools import assert_equal\n",
    "\n",
    "\n",
    "class TestRemoveDupes(object):\n",
    "\n",
    "    def test_remove_dupes(self, linked_list):\n",
    "        print('Test: Empty list')\n",
    "        linked_list.remove_dupes()\n",
    "        assert_equal(linked_list.get_all_data(), [])\n",
    "\n",
    "        print('Test: One element list')\n",
    "        linked_list.insert_to_front(2)\n",
    "        linked_list.remove_dupes()\n",
    "        assert_equal(linked_list.get_all_data(), [2])\n",
    "\n",
    "        print('Test: General case, duplicates')\n",
    "        linked_list.insert_to_front(1)\n",
    "        linked_list.insert_to_front(1)\n",
    "        linked_list.insert_to_front(3)\n",
    "        linked_list.insert_to_front(2)\n",
    "        linked_list.insert_to_front(3)\n",
    "        linked_list.insert_to_front(1)\n",
    "        linked_list.insert_to_front(1)\n",
    "        linked_list = linked_list.remove_dupes()\n",
    "        assert_equal(linked_list.get_all_data(), [1, 3, 2])\n",
    "\n",
    "        print('Test: General case, no duplicates')\n",
    "        linked_list = linked_list.remove_dupes()\n",
    "        assert_equal(linked_list.get_all_data(), [1, 3, 2])\n",
    "\n",
    "        print('Success: test_remove_dupes\\n')\n",
    "\n",
    "\n",
    "def main():\n",
    "    test = TestRemoveDupes()\n",
    "    linked_list = MyLinkedList(None)\n",
    "    test.test_remove_dupes(linked_list)\n",
    "\n",
    "\n",
    "if __name__ == '__main__':\n",
    "    main()"
   ]
  },
  {
   "cell_type": "markdown",
   "metadata": {},
   "source": [
    "## Solution Notebook\n",
    "\n",
    "Review the [Solution Notebook](http://nbviewer.ipython.org/github/donnemartin/interactive-coding-challenges/blob/master/linked_lists/remove_duplicates/remove_duplicates_solution.ipynb) for a discussion on algorithms and code solutions."
   ]
  }
 ],
 "metadata": {
  "kernelspec": {
   "display_name": "Python 2",
   "language": "python",
   "name": "python2"
  },
  "language_info": {
   "codemirror_mode": {
    "name": "ipython",
    "version": 2
   },
   "file_extension": ".py",
   "mimetype": "text/x-python",
   "name": "python",
   "nbconvert_exporter": "python",
   "pygments_lexer": "ipython2",
   "version": "2.7.14"
  }
 },
 "nbformat": 4,
 "nbformat_minor": 1
}
