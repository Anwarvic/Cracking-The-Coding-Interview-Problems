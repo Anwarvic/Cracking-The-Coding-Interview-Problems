{
 "cells": [
  {
   "cell_type": "markdown",
   "metadata": {},
   "source": [
    "This notebook was prepared by [Donne Martin](http://donnemartin.com). Source and license info is on [GitHub](https://github.com/donnemartin/interactive-coding-challenges)."
   ]
  },
  {
   "cell_type": "markdown",
   "metadata": {},
   "source": [
    "# Challenge Notebook"
   ]
  },
  {
   "cell_type": "markdown",
   "metadata": {},
   "source": [
    "## Problem: Add two numbers whose digits are stored in a linked list in reverse order.\n",
    "\n",
    "* [Constraints](#Constraints)\n",
    "* [Test Cases](#Test-Cases)\n",
    "* [Algorithm](#Algorithm)\n",
    "* [Code](#Code)\n",
    "* [Unit Test](#Unit-Test)\n",
    "* [Solution Notebook](#Solution-Notebook)"
   ]
  },
  {
   "cell_type": "markdown",
   "metadata": {},
   "source": [
    "## Constraints\n",
    "\n",
    "* Can we assume this is a non-circular, singly linked list?\n",
    "    * Yes\n",
    "* Do we expect the return to be in reverse order too?\n",
    "    * Yes\n",
    "* What if one of the inputs is None?\n",
    "    * Return None for an invalid operation\n",
    "* How large are these numbers--can they fit in memory?\n",
    "    * Yes\n",
    "* Can we assume we already have a linked list class that can be used for this problem?\n",
    "    * Yes\n",
    "* Can we assume this fits in memory?\n",
    "    * Yes"
   ]
  },
  {
   "cell_type": "markdown",
   "metadata": {},
   "source": [
    "## Test Cases\n",
    "\n",
    "* Empty list(s) -> None\n",
    "* Add values of different lengths\n",
    "    * Input 1: 6->5->None\n",
    "    * Input 2: 9->8->7\n",
    "    * Result: 5->4->8\n",
    "* Add values of same lengths\n",
    "    * Exercised from values of different lengths\n",
    "    * Done here for completeness"
   ]
  },
  {
   "cell_type": "markdown",
   "metadata": {},
   "source": [
    "## Algorithm\n",
    "\n",
    "Refer to the [Solution Notebook](http://nbviewer.ipython.org/github/donnemartin/interactive-coding-challenges/blob/master/linked_lists/add_reverse/add_reverse_solution.ipynb).  If you are stuck and need a hint, the solution notebook's algorithm discussion might be a good place to start."
   ]
  },
  {
   "cell_type": "markdown",
   "metadata": {},
   "source": [
    "## Code"
   ]
  },
  {
   "cell_type": "code",
   "execution_count": 1,
   "metadata": {
    "collapsed": true
   },
   "outputs": [],
   "source": [
    "class Node(object):\n",
    "\n",
    "    def __init__(self, data, next=None):\n",
    "        self.next = next\n",
    "        self.data = data\n",
    "\n",
    "    def __str__(self):\n",
    "        return self.data\n",
    "\n",
    "\n",
    "class LinkedList(object):\n",
    "\n",
    "    def __init__(self, head=None):\n",
    "        self.head = head\n",
    "\n",
    "    def __len__(self):\n",
    "        curr = self.head\n",
    "        counter = 0\n",
    "        while curr is not None:\n",
    "            counter += 1\n",
    "            curr = curr.next\n",
    "        return counter\n",
    "\n",
    "    def insert_to_front(self, data):\n",
    "        if data is None:\n",
    "            return None\n",
    "        node = Node(data, self.head)\n",
    "        self.head = node\n",
    "        return node\n",
    "\n",
    "    def append(self, data):\n",
    "        if data is None:\n",
    "            return None\n",
    "        node = Node(data)\n",
    "        if self.head is None:\n",
    "            self.head = node\n",
    "            return node\n",
    "        curr_node = self.head\n",
    "        while curr_node.next is not None:\n",
    "            curr_node = curr_node.next\n",
    "        curr_node.next = node\n",
    "        return node\n",
    "\n",
    "    def find(self, data):\n",
    "        if data is None:\n",
    "            return None\n",
    "        curr_node = self.head\n",
    "        while curr_node is not None:\n",
    "            if curr_node.data == data:\n",
    "                return curr_node\n",
    "            curr_node = curr_node.next\n",
    "        return None\n",
    "\n",
    "    def delete(self, data):\n",
    "        if data is None:\n",
    "            return\n",
    "        if self.head is None:\n",
    "            return\n",
    "        if self.head.data == data:\n",
    "            self.head = self.head.next\n",
    "            return\n",
    "        prev_node = self.head\n",
    "        curr_node = self.head.next\n",
    "        while curr_node is not None:\n",
    "            if curr_node.data == data:\n",
    "                prev_node.next = curr_node.next\n",
    "                return\n",
    "            prev_node = curr_node\n",
    "            curr_node = curr_node.next\n",
    "\n",
    "    def delete_alt(self, data):\n",
    "        if data is None:\n",
    "            return\n",
    "        if self.head is None:\n",
    "            return\n",
    "        curr_node = self.head\n",
    "        if curr_node.data == data:\n",
    "            curr_node = curr_node.next\n",
    "            return\n",
    "        while curr_node.next is not None:\n",
    "            if curr_node.next.data == data:\n",
    "                curr_node.next = curr_node.next.next\n",
    "                return\n",
    "            curr_node = curr_node.next\n",
    "\n",
    "    def print_list(self):\n",
    "        curr_node = self.head\n",
    "        while curr_node is not None:\n",
    "            print(curr_node.data)\n",
    "            curr_node = curr_node.next\n",
    "\n",
    "    def get_all_data(self):\n",
    "        data = []\n",
    "        curr_node = self.head\n",
    "        while curr_node is not None:\n",
    "            data.append(curr_node.data)\n",
    "            curr_node = curr_node.next\n",
    "        return data"
   ]
  },
  {
   "cell_type": "code",
   "execution_count": 2,
   "metadata": {},
   "outputs": [],
   "source": [
    "class MyLinkedList(LinkedList):\n",
    "\n",
    "    def add_reverse(self, first_list, second_list):\n",
    "        # TODO: Implement me\n",
    "        if first_list is None or second_list is None:\n",
    "            return None\n",
    "        result = LinkedList()\n",
    "        carry = 0\n",
    "        tmp1 = first_list.head\n",
    "        tmp2 = second_list.head\n",
    "        carry = 0\n",
    "        while(True):\n",
    "            value = carry\n",
    "            if tmp1 != None:\n",
    "                value += tmp1.data\n",
    "                tmp1= tmp1.next\n",
    "            if tmp2 != None:\n",
    "                value += tmp2.data\n",
    "                tmp2 = tmp2.next\n",
    "            num = value if value<10 else value-10\n",
    "            result.append(num)\n",
    "            carry = 0 if value<10 else 1\n",
    "            if (tmp1==None and tmp2==None):\n",
    "                break\n",
    "        if carry != 0:\n",
    "            result.append(carry)\n",
    "        return result"
   ]
  },
  {
   "cell_type": "markdown",
   "metadata": {},
   "source": [
    "## Unit Test"
   ]
  },
  {
   "cell_type": "markdown",
   "metadata": {},
   "source": [
    "\n",
    "\n",
    "**The following unit test is expected to fail until you solve the challenge.**"
   ]
  },
  {
   "cell_type": "code",
   "execution_count": 3,
   "metadata": {},
   "outputs": [
    {
     "name": "stdout",
     "output_type": "stream",
     "text": [
      "Test: Empty list(s)\n",
      "Test: Add values of different lengths\n",
      "Test: Add values of same lengths\n",
      "Success: test_add_reverse\n"
     ]
    }
   ],
   "source": [
    "from nose.tools import assert_equal\n",
    "\n",
    "\n",
    "class TestAddReverse(object):\n",
    "\n",
    "    def test_add_reverse(self):\n",
    "        print('Test: Empty list(s)')\n",
    "        assert_equal(MyLinkedList().add_reverse(None, None), None)\n",
    "        assert_equal(MyLinkedList().add_reverse(Node(5), None), None)\n",
    "        assert_equal(MyLinkedList().add_reverse(None, Node(10)), None)\n",
    "\n",
    "        print('Test: Add values of different lengths')\n",
    "        # Input 1: 6->5->None\n",
    "        # Input 2: 9->8->7\n",
    "        # Result: 5->4->8\n",
    "        first_list = MyLinkedList(Node(6))\n",
    "        first_list.append(5)\n",
    "        second_list = MyLinkedList(Node(9))\n",
    "        second_list.append(8)\n",
    "        second_list.append(7)\n",
    "        result = MyLinkedList().add_reverse(first_list, second_list)\n",
    "        assert_equal(result.get_all_data(), [5, 4, 8])\n",
    "\n",
    "        print('Test: Add values of same lengths')\n",
    "        # Input 1: 6->5->4\n",
    "        # Input 2: 9->8->7\n",
    "        # Result: 5->4->2->1\n",
    "        first_head = Node(6)\n",
    "        first_list = MyLinkedList(first_head)\n",
    "        first_list.append(5)\n",
    "        first_list.append(4)\n",
    "        second_head = Node(9)\n",
    "        second_list = MyLinkedList(second_head)\n",
    "        second_list.append(8)\n",
    "        second_list.append(7)\n",
    "        result = MyLinkedList().add_reverse(first_list, second_list)\n",
    "        assert_equal(result.get_all_data(), [5, 4, 2, 1])\n",
    "\n",
    "        print('Success: test_add_reverse')\n",
    "\n",
    "\n",
    "def main():\n",
    "    test = TestAddReverse()\n",
    "    test.test_add_reverse()\n",
    "\n",
    "\n",
    "if __name__ == '__main__':\n",
    "    main()"
   ]
  },
  {
   "cell_type": "markdown",
   "metadata": {},
   "source": [
    "## Solution Notebook\n",
    "\n",
    "Review the [Solution Notebook](http://nbviewer.ipython.org/github/donnemartin/interactive-coding-challenges/blob/master/linked_lists/add_reverse/add_reverse_solution.ipynb) for a discussion on algorithms and code solutions."
   ]
  }
 ],
 "metadata": {
  "kernelspec": {
   "display_name": "Python 2",
   "language": "python",
   "name": "python2"
  },
  "language_info": {
   "codemirror_mode": {
    "name": "ipython",
    "version": 2
   },
   "file_extension": ".py",
   "mimetype": "text/x-python",
   "name": "python",
   "nbconvert_exporter": "python",
   "pygments_lexer": "ipython2",
   "version": "2.7.14"
  }
 },
 "nbformat": 4,
 "nbformat_minor": 1
}
