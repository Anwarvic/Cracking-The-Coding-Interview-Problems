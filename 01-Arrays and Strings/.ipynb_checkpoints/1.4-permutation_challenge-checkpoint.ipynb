{
 "cells": [
  {
   "cell_type": "markdown",
   "metadata": {},
   "source": [
    "This notebook was prepared by [Donne Martin](http://donnemartin.com). Source and license info is on [GitHub](https://github.com/donnemartin/interactive-coding-challenges)."
   ]
  },
  {
   "cell_type": "markdown",
   "metadata": {},
   "source": [
    "# Challenge Notebook"
   ]
  },
  {
   "cell_type": "markdown",
   "metadata": {},
   "source": [
    "## Problem: Determine if a string is a permutation of another string."
   ]
  },
  {
   "cell_type": "markdown",
   "metadata": {},
   "source": [
    "## Constraints\n",
    "\n",
    "* Can we assume the string is ASCII?\n",
    "    * Yes\n",
    "    * Note: Unicode strings could require special handling depending on your language\n",
    "* Is whitespace important?\n",
    "    * Yes\n",
    "* Is this case sensitive?  'Nib', 'bin' is not a match?\n",
    "    * Yes\n",
    "* Can we use additional data structures?\n",
    "    * Yes\n",
    "* Can we assume this fits in memory?\n",
    "    * Yes"
   ]
  },
  {
   "cell_type": "markdown",
   "metadata": {},
   "source": [
    "## Test Cases\n",
    "\n",
    "* One or more None inputs -> False\n",
    "* One or more empty strings -> False\n",
    "* 'Nib', 'bin' -> False\n",
    "* 'act', 'cat' -> True\n",
    "* 'a ct', 'ca t' -> True"
   ]
  },
  {
   "cell_type": "markdown",
   "metadata": {},
   "source": [
    "## Code"
   ]
  },
  {
   "cell_type": "code",
   "execution_count": 1,
   "metadata": {
    "collapsed": true
   },
   "outputs": [],
   "source": [
    "class Permutations(object):\n",
    "\n",
    "    def is_permutation(self, str1, str2):\n",
    "        # TODO: Implement me\n",
    "        if not str1 or not str2 or len(str1) != len(str2):\n",
    "            return False\n",
    "        for ch in str1:\n",
    "            if ch not in str2:\n",
    "                return False\n",
    "        return True\n",
    "\n"
   ]
  },
  {
   "cell_type": "markdown",
   "metadata": {},
   "source": [
    "## Unit Test"
   ]
  },
  {
   "cell_type": "markdown",
   "metadata": {},
   "source": [
    "\n",
    "\n",
    "**The following unit test is expected to fail until you solve the challenge.**"
   ]
  },
  {
   "cell_type": "code",
   "execution_count": 2,
   "metadata": {},
   "outputs": [
    {
     "name": "stdout",
     "output_type": "stream",
     "text": [
      "Success: test_permutation\n"
     ]
    }
   ],
   "source": [
    "# %load test_permutation_solution.py\n",
    "from nose.tools import assert_equal\n",
    "\n",
    "\n",
    "class TestPermutation(object):\n",
    "\n",
    "    def test_permutation(self, func):\n",
    "        assert_equal(func(None, 'foo'), False)\n",
    "        assert_equal(func('', 'foo'), False)\n",
    "        assert_equal(func('Nib', 'bin'), False)\n",
    "        assert_equal(func('act', 'cat'), True)\n",
    "        assert_equal(func('a ct', 'ca t'), True)\n",
    "        print('Success: test_permutation')\n",
    "\n",
    "\n",
    "def main():\n",
    "    test = TestPermutation()\n",
    "    permutations = Permutations()\n",
    "    test.test_permutation(permutations.is_permutation)\n",
    "    try:\n",
    "        permutations_alt = PermutationsAlt()\n",
    "        test.test_permutation(permutations_alt.is_permutation)\n",
    "    except NameError:\n",
    "        # Alternate solutions are only defined\n",
    "        # in the solutions file\n",
    "        pass\n",
    "\n",
    "\n",
    "if __name__ == '__main__':\n",
    "    main()"
   ]
  }
 ],
 "metadata": {
  "kernelspec": {
   "display_name": "Python 2",
   "language": "python",
   "name": "python2"
  },
  "language_info": {
   "codemirror_mode": {
    "name": "ipython",
    "version": 2
   },
   "file_extension": ".py",
   "mimetype": "text/x-python",
   "name": "python",
   "nbconvert_exporter": "python",
   "pygments_lexer": "ipython2",
   "version": "2.7.14"
  }
 },
 "nbformat": 4,
 "nbformat_minor": 1
}
