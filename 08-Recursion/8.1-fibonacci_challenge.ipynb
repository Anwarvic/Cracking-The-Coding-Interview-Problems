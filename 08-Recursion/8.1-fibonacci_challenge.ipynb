{
 "cells": [
  {
   "cell_type": "markdown",
   "metadata": {},
   "source": [
    "This notebook was prepared by [Donne Martin](http://donnemartin.com). Source and license info is on [GitHub](https://github.com/donnemartin/interactive-coding-challenges)."
   ]
  },
  {
   "cell_type": "markdown",
   "metadata": {},
   "source": [
    "# Challenge Notebook"
   ]
  },
  {
   "cell_type": "markdown",
   "metadata": {},
   "source": [
    "## Problem: Implement fibonacci recursively, dynamically, and iteratively."
   ]
  },
  {
   "cell_type": "markdown",
   "metadata": {},
   "source": [
    "## Constraints\n",
    "\n",
    "* Does the sequence start at 0 or 1?\n",
    "    * 0\n",
    "* Can we assume the inputs are valid non-negative ints?\n",
    "    * Yes\n",
    "* Are you looking for a recursive or iterative solution?\n",
    "    * Implement both\n",
    "* Can we assume this fits memory?\n",
    "    * Yes"
   ]
  },
  {
   "cell_type": "markdown",
   "metadata": {},
   "source": [
    "## Test Cases\n",
    "\n",
    "* n = 0 -> 0\n",
    "* n = 1 -> 1\n",
    "* n = 6 -> 8\n",
    "* Fib sequence: 0, 1, 1, 2, 3, 5, 8, 13, 21, 34..."
   ]
  },
  {
   "cell_type": "markdown",
   "metadata": {},
   "source": [
    "## Code"
   ]
  },
  {
   "cell_type": "code",
   "execution_count": 1,
   "metadata": {
    "collapsed": true
   },
   "outputs": [],
   "source": [
    "class Math(object):\n",
    "\n",
    "    def fib_iterative(self, n):\n",
    "        # TODO: Implement me\n",
    "        if n<=1:\n",
    "            return n\n",
    "        counter = 0\n",
    "        prev_prev = 0\n",
    "        prev = 1\n",
    "        while(counter<n-1):\n",
    "            result = prev_prev + prev\n",
    "            prev_prev = prev\n",
    "            prev = result\n",
    "            counter +=1          \n",
    "        return result\n",
    "\n",
    "    def fib_recursive(self, n):\n",
    "        # TODO: Implement me\n",
    "        if n<=1:\n",
    "            return n\n",
    "        else:\n",
    "            return self.fib_recursive(n-1) + self.fib_recursive(n-2)\n",
    "\n",
    "    def fib_dynamic(self, n):\n",
    "        # TODO: Implement me\n",
    "        output = [0,1]\n",
    "        while(len(output) <= n):\n",
    "            output.append(output[-1]+output[-2])\n",
    "        return output[n]\n"
   ]
  },
  {
   "cell_type": "markdown",
   "metadata": {},
   "source": [
    "## Unit Test\n",
    "\n",
    "\n",
    "\n",
    "**The following unit test is expected to fail until you solve the challenge.**"
   ]
  },
  {
   "cell_type": "code",
   "execution_count": 2,
   "metadata": {},
   "outputs": [
    {
     "name": "stdout",
     "output_type": "stream",
     "text": [
      "Success: test_fib\n",
      "Success: test_fib\n",
      "Success: test_fib\n"
     ]
    }
   ],
   "source": [
    "from nose.tools import assert_equal\n",
    "\n",
    "\n",
    "class TestFib(object):\n",
    "\n",
    "    def test_fib(self, func):\n",
    "        result = []\n",
    "        expected = [0, 1, 1, 2, 3, 5, 8, 13, 21, 34]\n",
    "        for i in range(len(expected)):\n",
    "            result.append(func(i))\n",
    "        assert_equal(result, expected)\n",
    "        print('Success: test_fib')\n",
    "\n",
    "\n",
    "def main():\n",
    "    test = TestFib()\n",
    "    math = Math()\n",
    "    test.test_fib(math.fib_recursive)\n",
    "    test.test_fib(math.fib_dynamic)\n",
    "    test.test_fib(math.fib_iterative)\n",
    "\n",
    "\n",
    "if __name__ == '__main__':\n",
    "    main()"
   ]
  }
 ],
 "metadata": {
  "kernelspec": {
   "display_name": "Python 2",
   "language": "python",
   "name": "python2"
  },
  "language_info": {
   "codemirror_mode": {
    "name": "ipython",
    "version": 2
   },
   "file_extension": ".py",
   "mimetype": "text/x-python",
   "name": "python",
   "nbconvert_exporter": "python",
   "pygments_lexer": "ipython2",
   "version": "2.7.14"
  }
 },
 "nbformat": 4,
 "nbformat_minor": 1
}
